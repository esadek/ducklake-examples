{
 "cells": [
  {
   "cell_type": "markdown",
   "id": "b00977b9-13ab-4079-883b-363f6a142128",
   "metadata": {},
   "source": [
    "# PySpark DuckLake Example\n",
    "\n",
    "An example notebook showing how to use [PySpark](https://spark.apache.org/docs/latest/api/python/index.html) with DuckLake."
   ]
  },
  {
   "cell_type": "markdown",
   "id": "c3ac235d-d3a5-4f34-baa0-b7dd5e5eb2fa",
   "metadata": {},
   "source": [
    "Install PySpark:"
   ]
  },
  {
   "cell_type": "code",
   "execution_count": null,
   "id": "c35ff352-1753-4cfd-8550-82fe963a6bb2",
   "metadata": {},
   "outputs": [],
   "source": [
    "!pip install pyspark"
   ]
  },
  {
   "cell_type": "markdown",
   "id": "fa01ab83-f0de-4fed-a920-4209601d04cb",
   "metadata": {},
   "source": [
    "Import the `pyspark` package:"
   ]
  },
  {
   "cell_type": "code",
   "execution_count": 2,
   "id": "41cd6dd5-d7b7-4eb3-8192-333c56d013f1",
   "metadata": {},
   "outputs": [],
   "source": [
    "import pyspark"
   ]
  },
  {
   "cell_type": "markdown",
   "id": "1c2627a4-74e9-4026-afb6-4f4c4ffc7b4f",
   "metadata": {},
   "source": [
    "Specify the DuckLake URI and table name:"
   ]
  },
  {
   "cell_type": "code",
   "execution_count": 3,
   "id": "22eb2c7a-47f8-4e9b-9f9c-a1c24c0e6480",
   "metadata": {},
   "outputs": [],
   "source": [
    "ducklake_uri = \"metadata.ducklake\"\n",
    "table_name = \"penguins\""
   ]
  },
  {
   "cell_type": "markdown",
   "id": "59e7e498-96f4-412e-b6bc-efb296797716",
   "metadata": {},
   "source": [
    "Create a Spark session:"
   ]
  },
  {
   "cell_type": "code",
   "execution_count": 4,
   "id": "a97dc44b-2703-4788-8619-83a02150d465",
   "metadata": {},
   "outputs": [],
   "source": [
    "spark = (\n",
    "    pyspark.sql.SparkSession.builder\n",
    "        .config(\"spark.jars.packages\", \"org.duckdb:duckdb_jdbc:1.3.1.0\")\n",
    "        .config(\"spark.driver.defaultJavaOptions\", \"-Djava.security.manager=allow\")\n",
    "        .getOrCreate()\n",
    ")"
   ]
  },
  {
   "cell_type": "markdown",
   "id": "a0c79d2d-3ffc-47cd-8592-0802a1f6c21a",
   "metadata": {},
   "source": [
    "Create a PySpark DataFrame from a table:"
   ]
  },
  {
   "cell_type": "code",
   "execution_count": 5,
   "id": "09dc7b13-48da-4c46-8b73-67c09807abab",
   "metadata": {},
   "outputs": [],
   "source": [
    "df = (\n",
    "    spark.read.format(\"jdbc\")\n",
    "        .option(\"driver\", \"org.duckdb.DuckDBDriver\")\n",
    "        .option(\"url\", f\"jdbc:duckdb:ducklake:{ducklake_uri}\")\n",
    "        .option(\"dbtable\", table_name)\n",
    "        .load()\n",
    ")"
   ]
  },
  {
   "cell_type": "markdown",
   "id": "0f058003-19fa-466b-a6dd-b3c01b59b2cf",
   "metadata": {},
   "source": [
    "Preview the DataFrame:"
   ]
  },
  {
   "cell_type": "code",
   "execution_count": 6,
   "id": "7ad5109a-d7d3-4cfa-aa2f-edc35ea8a01e",
   "metadata": {},
   "outputs": [
    {
     "name": "stdout",
     "output_type": "stream",
     "text": [
      "+-------+---------+--------------+-------------+-----------------+-----------+------+----+\n",
      "|species|   island|bill_length_mm|bill_depth_mm|flipper_length_mm|body_mass_g|   sex|year|\n",
      "+-------+---------+--------------+-------------+-----------------+-----------+------+----+\n",
      "| Adelie|Torgersen|          39.1|         18.7|              181|       3750|  male|2007|\n",
      "| Adelie|Torgersen|          39.5|         17.4|              186|       3800|female|2007|\n",
      "| Adelie|Torgersen|          40.3|           18|              195|       3250|female|2007|\n",
      "| Adelie|Torgersen|            NA|           NA|               NA|         NA|    NA|2007|\n",
      "| Adelie|Torgersen|          36.7|         19.3|              193|       3450|female|2007|\n",
      "| Adelie|Torgersen|          39.3|         20.6|              190|       3650|  male|2007|\n",
      "| Adelie|Torgersen|          38.9|         17.8|              181|       3625|female|2007|\n",
      "| Adelie|Torgersen|          39.2|         19.6|              195|       4675|  male|2007|\n",
      "| Adelie|Torgersen|          34.1|         18.1|              193|       3475|    NA|2007|\n",
      "| Adelie|Torgersen|            42|         20.2|              190|       4250|    NA|2007|\n",
      "+-------+---------+--------------+-------------+-----------------+-----------+------+----+\n",
      "only showing top 10 rows\n"
     ]
    }
   ],
   "source": [
    "df.show(10)"
   ]
  },
  {
   "cell_type": "markdown",
   "id": "5341e3e9-5ce7-48f3-a1b6-396691546b49",
   "metadata": {},
   "source": [
    "Get the count for each species:"
   ]
  },
  {
   "cell_type": "code",
   "execution_count": 7,
   "id": "3932abfd-f0d4-4849-89d8-b90ff725faef",
   "metadata": {},
   "outputs": [
    {
     "name": "stdout",
     "output_type": "stream",
     "text": [
      "+---------+-----+\n",
      "|  species|count|\n",
      "+---------+-----+\n",
      "|   Gentoo|  124|\n",
      "|   Adelie|  152|\n",
      "|Chinstrap|   68|\n",
      "+---------+-----+\n",
      "\n"
     ]
    }
   ],
   "source": [
    "df.groupby(\"species\").count().show()"
   ]
  },
  {
   "cell_type": "markdown",
   "id": "a510a7ad-e82b-4d50-b0bd-b665d2139349",
   "metadata": {},
   "source": [
    "Register the DataFrame as a table and query the table with SQL:"
   ]
  },
  {
   "cell_type": "code",
   "execution_count": 8,
   "id": "e85653ba-4dee-41ef-b738-caacdaa072f3",
   "metadata": {},
   "outputs": [
    {
     "name": "stdout",
     "output_type": "stream",
     "text": [
      "+--------+\n",
      "|count(1)|\n",
      "+--------+\n",
      "|     344|\n",
      "+--------+\n",
      "\n"
     ]
    }
   ],
   "source": [
    "df.createOrReplaceTempView(table_name)\n",
    "spark.sql(f\"SELECT count(*) from {table_name}\").show()"
   ]
  },
  {
   "cell_type": "markdown",
   "id": "9d09a120-2ff9-4f9d-b3bc-74b4e4719369",
   "metadata": {},
   "source": [
    "Stop the underlying Spark Context:"
   ]
  },
  {
   "cell_type": "code",
   "execution_count": 9,
   "id": "949ed603-3ffa-429e-bf94-7f478be94e17",
   "metadata": {},
   "outputs": [],
   "source": [
    "spark.stop()"
   ]
  }
 ],
 "metadata": {
  "kernelspec": {
   "display_name": "Python 3 (ipykernel)",
   "language": "python",
   "name": "python3"
  },
  "language_info": {
   "codemirror_mode": {
    "name": "ipython",
    "version": 3
   },
   "file_extension": ".py",
   "mimetype": "text/x-python",
   "name": "python",
   "nbconvert_exporter": "python",
   "pygments_lexer": "ipython3",
   "version": "3.12.11"
  }
 },
 "nbformat": 4,
 "nbformat_minor": 5
}
