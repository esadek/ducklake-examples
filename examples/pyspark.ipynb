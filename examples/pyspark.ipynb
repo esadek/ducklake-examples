{
 "cells": [
  {
   "cell_type": "markdown",
   "id": "4509eaa1-8e89-49c3-bd2d-48d28c97f40f",
   "metadata": {},
   "source": [
    "# PySpark DuckLake Example\n",
    "\n",
    "An example notebook showing how to use [PySpark](https://spark.apache.org/docs/latest/api/python/index.html) with DuckLake."
   ]
  },
  {
   "cell_type": "markdown",
   "id": "65961e59-64bb-4ee3-b3df-c1caba6bd5e2",
   "metadata": {},
   "source": [
    "Install PySpark:"
   ]
  },
  {
   "cell_type": "code",
   "execution_count": null,
   "id": "57f4c280-781b-4945-8c37-5193371e41f5",
   "metadata": {},
   "outputs": [],
   "source": [
    "!pip install pyspark"
   ]
  },
  {
   "cell_type": "markdown",
   "id": "9dbb7067-7b88-4d76-af1d-a20eb20cc89d",
   "metadata": {},
   "source": [
    "Import the `pyspark` package:"
   ]
  },
  {
   "cell_type": "code",
   "execution_count": 2,
   "id": "8a7ac355-3f60-4a91-97e8-9b318f2477c8",
   "metadata": {},
   "outputs": [],
   "source": [
    "import pyspark"
   ]
  },
  {
   "cell_type": "markdown",
   "id": "88873b63-a829-4a5c-b0e0-f33057a7499d",
   "metadata": {},
   "source": [
    "Specify the DuckLake URI and table name:"
   ]
  },
  {
   "cell_type": "code",
   "execution_count": 3,
   "id": "040419e1-a76a-4bb3-8a49-97a2f9d5c60f",
   "metadata": {},
   "outputs": [],
   "source": [
    "ducklake_uri = \"metadata.ducklake\"\n",
    "table_name = \"penguins\""
   ]
  },
  {
   "cell_type": "markdown",
   "id": "4e8530bf-5a81-4c1c-a1ef-62a9bada76fb",
   "metadata": {},
   "source": [
    "Create a Spark session:"
   ]
  },
  {
   "cell_type": "code",
   "execution_count": 4,
   "id": "657285f5-f081-457c-a925-da41e3cbca20",
   "metadata": {},
   "outputs": [],
   "source": [
    "spark = (\n",
    "    pyspark.sql.SparkSession.builder\n",
    "    .config(\"spark.jars.packages\", \"org.duckdb:duckdb_jdbc:1.3.1.0\")\n",
    "    .config(\"spark.driver.defaultJavaOptions\", \"-Djava.security.manager=allow\")\n",
    "    .getOrCreate()\n",
    ")"
   ]
  },
  {
   "cell_type": "markdown",
   "id": "2a107a0a-74ed-48d9-a72c-fd10066072a0",
   "metadata": {},
   "source": [
    "Create a PySpark DataFrame from a table:"
   ]
  },
  {
   "cell_type": "code",
   "execution_count": 5,
   "id": "e1ca3510-2bc0-48bf-9852-ae7c77e1799f",
   "metadata": {},
   "outputs": [],
   "source": [
    "df = (\n",
    "    spark.read.format(\"jdbc\")\n",
    "    .option(\"driver\", \"org.duckdb.DuckDBDriver\")\n",
    "    .option(\"url\", f\"jdbc:duckdb:ducklake:{ducklake_uri}\")\n",
    "    .option(\"dbtable\", table_name)\n",
    "    .load()\n",
    ")"
   ]
  },
  {
   "cell_type": "markdown",
   "id": "163c1122-c74d-41c1-a572-e321f8c2bddf",
   "metadata": {},
   "source": [
    "Preview the DataFrame:"
   ]
  },
  {
   "cell_type": "code",
   "execution_count": 6,
   "id": "b315289f-c790-4440-a4e1-775f7b4b719d",
   "metadata": {},
   "outputs": [
    {
     "name": "stdout",
     "output_type": "stream",
     "text": [
      "+-------+---------+--------------+-------------+-----------------+-----------+------+----+\n",
      "|species|   island|bill_length_mm|bill_depth_mm|flipper_length_mm|body_mass_g|   sex|year|\n",
      "+-------+---------+--------------+-------------+-----------------+-----------+------+----+\n",
      "| Adelie|Torgersen|          39.1|         18.7|              181|       3750|  male|2007|\n",
      "| Adelie|Torgersen|          39.5|         17.4|              186|       3800|female|2007|\n",
      "| Adelie|Torgersen|          40.3|           18|              195|       3250|female|2007|\n",
      "| Adelie|Torgersen|            NA|           NA|               NA|         NA|    NA|2007|\n",
      "| Adelie|Torgersen|          36.7|         19.3|              193|       3450|female|2007|\n",
      "| Adelie|Torgersen|          39.3|         20.6|              190|       3650|  male|2007|\n",
      "| Adelie|Torgersen|          38.9|         17.8|              181|       3625|female|2007|\n",
      "| Adelie|Torgersen|          39.2|         19.6|              195|       4675|  male|2007|\n",
      "| Adelie|Torgersen|          34.1|         18.1|              193|       3475|    NA|2007|\n",
      "| Adelie|Torgersen|            42|         20.2|              190|       4250|    NA|2007|\n",
      "+-------+---------+--------------+-------------+-----------------+-----------+------+----+\n",
      "only showing top 10 rows\n"
     ]
    }
   ],
   "source": [
    "df.show(10)"
   ]
  },
  {
   "cell_type": "markdown",
   "id": "d6375440-1268-4e9b-8841-11a032dcb40c",
   "metadata": {},
   "source": [
    "Get the count for each species:"
   ]
  },
  {
   "cell_type": "code",
   "execution_count": 7,
   "id": "8c61bc99-ddb0-4674-997b-750a7112544f",
   "metadata": {},
   "outputs": [
    {
     "name": "stdout",
     "output_type": "stream",
     "text": [
      "+---------+-----+\n",
      "|  species|count|\n",
      "+---------+-----+\n",
      "|   Gentoo|  124|\n",
      "|   Adelie|  152|\n",
      "|Chinstrap|   68|\n",
      "+---------+-----+\n",
      "\n"
     ]
    }
   ],
   "source": [
    "df.groupby(\"species\").count().show()"
   ]
  },
  {
   "cell_type": "markdown",
   "id": "f947d73c-09f3-47c3-a6ca-13faa628fb9c",
   "metadata": {},
   "source": [
    "Register the DataFrame as a table and query the table with SQL:"
   ]
  },
  {
   "cell_type": "code",
   "execution_count": 8,
   "id": "d3483187-f7af-4add-8c93-3c7c392ee199",
   "metadata": {},
   "outputs": [
    {
     "name": "stdout",
     "output_type": "stream",
     "text": [
      "+--------+\n",
      "|count(1)|\n",
      "+--------+\n",
      "|     344|\n",
      "+--------+\n",
      "\n"
     ]
    }
   ],
   "source": [
    "df.createOrReplaceTempView(table_name)\n",
    "spark.sql(f\"SELECT count(*) from {table_name}\").show()"
   ]
  },
  {
   "cell_type": "markdown",
   "id": "04148f66-980a-4762-aa78-183ee8fd7c5b",
   "metadata": {},
   "source": [
    "Stop the underlying Spark Context:"
   ]
  },
  {
   "cell_type": "code",
   "execution_count": 9,
   "id": "2bd46a62-c09a-44c8-9b1c-3c9554d179fa",
   "metadata": {},
   "outputs": [],
   "source": [
    "spark.stop()"
   ]
  }
 ],
 "metadata": {
  "kernelspec": {
   "display_name": "Python 3 (ipykernel)",
   "language": "python",
   "name": "python3"
  },
  "language_info": {
   "codemirror_mode": {
    "name": "ipython",
    "version": 3
   },
   "file_extension": ".py",
   "mimetype": "text/x-python",
   "name": "python",
   "nbconvert_exporter": "python",
   "pygments_lexer": "ipython3",
   "version": "3.12.11"
  }
 },
 "nbformat": 4,
 "nbformat_minor": 5
}
