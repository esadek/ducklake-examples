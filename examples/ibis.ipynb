{
 "cells": [
  {
   "cell_type": "markdown",
   "id": "da3282aa-73d0-44e4-b1a1-250fc68c8ae9",
   "metadata": {
    "editable": true,
    "slideshow": {
     "slide_type": ""
    },
    "tags": []
   },
   "source": [
    "# Ibis DuckLake Example\n",
    "\n",
    "An example notebook showing how to use the [Ibis](https://ibis-project.org/) dataframe library with DuckLake."
   ]
  },
  {
   "cell_type": "markdown",
   "id": "d554246d-f5e4-406b-a5dc-f82056faca77",
   "metadata": {},
   "source": [
    "Install Ibis with the DuckDB backend:"
   ]
  },
  {
   "cell_type": "code",
   "execution_count": null,
   "id": "fabee935-0d56-49a8-8502-c4fad13bef85",
   "metadata": {},
   "outputs": [],
   "source": [
    "!pip install \"ibis-framework[duckdb,examples]\""
   ]
  },
  {
   "cell_type": "markdown",
   "id": "b9aa1f4b-7619-4031-987b-ba4bd6d78e24",
   "metadata": {},
   "source": [
    "Import the `ibis` package:"
   ]
  },
  {
   "cell_type": "code",
   "execution_count": 2,
   "id": "ceb4d7f5-18cd-4b02-922d-de701a74a0f2",
   "metadata": {},
   "outputs": [],
   "source": [
    "import ibis"
   ]
  },
  {
   "cell_type": "markdown",
   "id": "52473665-6be3-4b19-a6d5-bce215c67656",
   "metadata": {},
   "source": [
    "Turn on interactive mode:"
   ]
  },
  {
   "cell_type": "code",
   "execution_count": 3,
   "id": "9fdf9830-9534-40bc-ab62-ef68c22a8938",
   "metadata": {},
   "outputs": [],
   "source": [
    "ibis.options.interactive = True"
   ]
  },
  {
   "cell_type": "markdown",
   "id": "1791ef32-7fc2-46b1-837e-82cd40d5d36e",
   "metadata": {},
   "source": [
    "Connect to an in-memory DuckDB database and install the `ducklake` extension:"
   ]
  },
  {
   "cell_type": "code",
   "execution_count": 4,
   "id": "fe7096dd-640b-4d8f-bba6-ca7217da6d56",
   "metadata": {},
   "outputs": [],
   "source": [
    "con = ibis.duckdb.connect(extensions=\"ducklake\")"
   ]
  },
  {
   "cell_type": "markdown",
   "id": "7ab0bb17-fd2f-41c1-87e3-c44a9a120266",
   "metadata": {},
   "source": [
    "Attach to DuckLake:"
   ]
  },
  {
   "cell_type": "code",
   "execution_count": 5,
   "id": "d4eb9978-7a04-444c-9700-0c2adf00739d",
   "metadata": {},
   "outputs": [],
   "source": [
    "con.attach(\"ducklake:my_ducklake.ducklake\")"
   ]
  },
  {
   "cell_type": "markdown",
   "id": "e13fa4d2-123a-4a6d-ae62-3290df4dfbf3",
   "metadata": {},
   "source": [
    "List existing catalogs for the connection:"
   ]
  },
  {
   "cell_type": "code",
   "execution_count": 6,
   "id": "2786e2dd-8953-4a94-8ab8-41c35014a7e9",
   "metadata": {},
   "outputs": [
    {
     "data": {
      "text/plain": [
       "['__ducklake_metadata_my_ducklake', 'memory', 'my_ducklake', 'system', 'temp']"
      ]
     },
     "execution_count": 6,
     "metadata": {},
     "output_type": "execute_result"
    }
   ],
   "source": [
    "con.list_catalogs()"
   ]
  },
  {
   "cell_type": "markdown",
   "id": "febe9232-b6ba-4d1d-9613-40bcf5a23fef",
   "metadata": {},
   "source": [
    "Select the `my_ducklake` catalog:"
   ]
  },
  {
   "cell_type": "code",
   "execution_count": 7,
   "id": "816eee06-301e-44c4-9a9c-c9cff4384a9f",
   "metadata": {},
   "outputs": [
    {
     "data": {
      "text/plain": [
       "<duckdb.duckdb.DuckDBPyConnection at 0x10ada6eb0>"
      ]
     },
     "execution_count": 7,
     "metadata": {},
     "output_type": "execute_result"
    }
   ],
   "source": [
    "con.raw_sql(\"USE my_ducklake\")"
   ]
  },
  {
   "cell_type": "markdown",
   "id": "74b38f3a-3225-40aa-8509-ece6541f2020",
   "metadata": {},
   "source": [
    "Create a table using the Ibis penguin example dataset:"
   ]
  },
  {
   "cell_type": "code",
   "execution_count": 8,
   "id": "a49ba443-03f7-4930-9023-3c8d22e9a752",
   "metadata": {},
   "outputs": [
    {
     "data": {
      "text/html": [
       "<pre style=\"white-space:pre;overflow-x:auto;line-height:normal;font-family:Menlo,'DejaVu Sans Mono',consolas,'Courier New',monospace\">┏━━━━━━━━━┳━━━━━━━━━━━┳━━━━━━━━━━━━━━━━┳━━━━━━━━━━━━━━━┳━━━━━━━━━━━━━━━━━━━┳━━━━━━━━━━━━━┳━━━━━━━━┳━━━━━━━┓\n",
       "┃<span style=\"font-weight: bold\"> species </span>┃<span style=\"font-weight: bold\"> island    </span>┃<span style=\"font-weight: bold\"> bill_length_mm </span>┃<span style=\"font-weight: bold\"> bill_depth_mm </span>┃<span style=\"font-weight: bold\"> flipper_length_mm </span>┃<span style=\"font-weight: bold\"> body_mass_g </span>┃<span style=\"font-weight: bold\"> sex    </span>┃<span style=\"font-weight: bold\"> year  </span>┃\n",
       "┡━━━━━━━━━╇━━━━━━━━━━━╇━━━━━━━━━━━━━━━━╇━━━━━━━━━━━━━━━╇━━━━━━━━━━━━━━━━━━━╇━━━━━━━━━━━━━╇━━━━━━━━╇━━━━━━━┩\n",
       "│ <span style=\"color: #7f7f7f; text-decoration-color: #7f7f7f\">string</span>  │ <span style=\"color: #7f7f7f; text-decoration-color: #7f7f7f\">string</span>    │ <span style=\"color: #7f7f7f; text-decoration-color: #7f7f7f\">float64</span>        │ <span style=\"color: #7f7f7f; text-decoration-color: #7f7f7f\">float64</span>       │ <span style=\"color: #7f7f7f; text-decoration-color: #7f7f7f\">int64</span>             │ <span style=\"color: #7f7f7f; text-decoration-color: #7f7f7f\">int64</span>       │ <span style=\"color: #7f7f7f; text-decoration-color: #7f7f7f\">string</span> │ <span style=\"color: #7f7f7f; text-decoration-color: #7f7f7f\">int64</span> │\n",
       "├─────────┼───────────┼────────────────┼───────────────┼───────────────────┼─────────────┼────────┼───────┤\n",
       "│ <span style=\"color: #008000; text-decoration-color: #008000\">Adelie </span> │ <span style=\"color: #008000; text-decoration-color: #008000\">Torgersen</span> │           <span style=\"color: #008080; text-decoration-color: #008080; font-weight: bold\">39.1</span> │          <span style=\"color: #008080; text-decoration-color: #008080; font-weight: bold\">18.7</span> │               <span style=\"color: #008080; text-decoration-color: #008080; font-weight: bold\">181</span> │        <span style=\"color: #008080; text-decoration-color: #008080; font-weight: bold\">3750</span> │ <span style=\"color: #008000; text-decoration-color: #008000\">male  </span> │  <span style=\"color: #008080; text-decoration-color: #008080; font-weight: bold\">2007</span> │\n",
       "│ <span style=\"color: #008000; text-decoration-color: #008000\">Adelie </span> │ <span style=\"color: #008000; text-decoration-color: #008000\">Torgersen</span> │           <span style=\"color: #008080; text-decoration-color: #008080; font-weight: bold\">39.5</span> │          <span style=\"color: #008080; text-decoration-color: #008080; font-weight: bold\">17.4</span> │               <span style=\"color: #008080; text-decoration-color: #008080; font-weight: bold\">186</span> │        <span style=\"color: #008080; text-decoration-color: #008080; font-weight: bold\">3800</span> │ <span style=\"color: #008000; text-decoration-color: #008000\">female</span> │  <span style=\"color: #008080; text-decoration-color: #008080; font-weight: bold\">2007</span> │\n",
       "│ <span style=\"color: #008000; text-decoration-color: #008000\">Adelie </span> │ <span style=\"color: #008000; text-decoration-color: #008000\">Torgersen</span> │           <span style=\"color: #008080; text-decoration-color: #008080; font-weight: bold\">40.3</span> │          <span style=\"color: #008080; text-decoration-color: #008080; font-weight: bold\">18.0</span> │               <span style=\"color: #008080; text-decoration-color: #008080; font-weight: bold\">195</span> │        <span style=\"color: #008080; text-decoration-color: #008080; font-weight: bold\">3250</span> │ <span style=\"color: #008000; text-decoration-color: #008000\">female</span> │  <span style=\"color: #008080; text-decoration-color: #008080; font-weight: bold\">2007</span> │\n",
       "│ <span style=\"color: #008000; text-decoration-color: #008000\">Adelie </span> │ <span style=\"color: #008000; text-decoration-color: #008000\">Torgersen</span> │           <span style=\"color: #7f7f7f; text-decoration-color: #7f7f7f\">NULL</span> │          <span style=\"color: #7f7f7f; text-decoration-color: #7f7f7f\">NULL</span> │              <span style=\"color: #7f7f7f; text-decoration-color: #7f7f7f\">NULL</span> │        <span style=\"color: #7f7f7f; text-decoration-color: #7f7f7f\">NULL</span> │ <span style=\"color: #7f7f7f; text-decoration-color: #7f7f7f\">NULL</span>   │  <span style=\"color: #008080; text-decoration-color: #008080; font-weight: bold\">2007</span> │\n",
       "│ <span style=\"color: #008000; text-decoration-color: #008000\">Adelie </span> │ <span style=\"color: #008000; text-decoration-color: #008000\">Torgersen</span> │           <span style=\"color: #008080; text-decoration-color: #008080; font-weight: bold\">36.7</span> │          <span style=\"color: #008080; text-decoration-color: #008080; font-weight: bold\">19.3</span> │               <span style=\"color: #008080; text-decoration-color: #008080; font-weight: bold\">193</span> │        <span style=\"color: #008080; text-decoration-color: #008080; font-weight: bold\">3450</span> │ <span style=\"color: #008000; text-decoration-color: #008000\">female</span> │  <span style=\"color: #008080; text-decoration-color: #008080; font-weight: bold\">2007</span> │\n",
       "│ <span style=\"color: #008000; text-decoration-color: #008000\">Adelie </span> │ <span style=\"color: #008000; text-decoration-color: #008000\">Torgersen</span> │           <span style=\"color: #008080; text-decoration-color: #008080; font-weight: bold\">39.3</span> │          <span style=\"color: #008080; text-decoration-color: #008080; font-weight: bold\">20.6</span> │               <span style=\"color: #008080; text-decoration-color: #008080; font-weight: bold\">190</span> │        <span style=\"color: #008080; text-decoration-color: #008080; font-weight: bold\">3650</span> │ <span style=\"color: #008000; text-decoration-color: #008000\">male  </span> │  <span style=\"color: #008080; text-decoration-color: #008080; font-weight: bold\">2007</span> │\n",
       "│ <span style=\"color: #008000; text-decoration-color: #008000\">Adelie </span> │ <span style=\"color: #008000; text-decoration-color: #008000\">Torgersen</span> │           <span style=\"color: #008080; text-decoration-color: #008080; font-weight: bold\">38.9</span> │          <span style=\"color: #008080; text-decoration-color: #008080; font-weight: bold\">17.8</span> │               <span style=\"color: #008080; text-decoration-color: #008080; font-weight: bold\">181</span> │        <span style=\"color: #008080; text-decoration-color: #008080; font-weight: bold\">3625</span> │ <span style=\"color: #008000; text-decoration-color: #008000\">female</span> │  <span style=\"color: #008080; text-decoration-color: #008080; font-weight: bold\">2007</span> │\n",
       "│ <span style=\"color: #008000; text-decoration-color: #008000\">Adelie </span> │ <span style=\"color: #008000; text-decoration-color: #008000\">Torgersen</span> │           <span style=\"color: #008080; text-decoration-color: #008080; font-weight: bold\">39.2</span> │          <span style=\"color: #008080; text-decoration-color: #008080; font-weight: bold\">19.6</span> │               <span style=\"color: #008080; text-decoration-color: #008080; font-weight: bold\">195</span> │        <span style=\"color: #008080; text-decoration-color: #008080; font-weight: bold\">4675</span> │ <span style=\"color: #008000; text-decoration-color: #008000\">male  </span> │  <span style=\"color: #008080; text-decoration-color: #008080; font-weight: bold\">2007</span> │\n",
       "│ <span style=\"color: #008000; text-decoration-color: #008000\">Adelie </span> │ <span style=\"color: #008000; text-decoration-color: #008000\">Torgersen</span> │           <span style=\"color: #008080; text-decoration-color: #008080; font-weight: bold\">34.1</span> │          <span style=\"color: #008080; text-decoration-color: #008080; font-weight: bold\">18.1</span> │               <span style=\"color: #008080; text-decoration-color: #008080; font-weight: bold\">193</span> │        <span style=\"color: #008080; text-decoration-color: #008080; font-weight: bold\">3475</span> │ <span style=\"color: #7f7f7f; text-decoration-color: #7f7f7f\">NULL</span>   │  <span style=\"color: #008080; text-decoration-color: #008080; font-weight: bold\">2007</span> │\n",
       "│ <span style=\"color: #008000; text-decoration-color: #008000\">Adelie </span> │ <span style=\"color: #008000; text-decoration-color: #008000\">Torgersen</span> │           <span style=\"color: #008080; text-decoration-color: #008080; font-weight: bold\">42.0</span> │          <span style=\"color: #008080; text-decoration-color: #008080; font-weight: bold\">20.2</span> │               <span style=\"color: #008080; text-decoration-color: #008080; font-weight: bold\">190</span> │        <span style=\"color: #008080; text-decoration-color: #008080; font-weight: bold\">4250</span> │ <span style=\"color: #7f7f7f; text-decoration-color: #7f7f7f\">NULL</span>   │  <span style=\"color: #008080; text-decoration-color: #008080; font-weight: bold\">2007</span> │\n",
       "│ <span style=\"color: #7f7f7f; text-decoration-color: #7f7f7f\">…</span>       │ <span style=\"color: #7f7f7f; text-decoration-color: #7f7f7f\">…</span>         │              <span style=\"color: #7f7f7f; text-decoration-color: #7f7f7f\">…</span> │             <span style=\"color: #7f7f7f; text-decoration-color: #7f7f7f\">…</span> │                 <span style=\"color: #7f7f7f; text-decoration-color: #7f7f7f\">…</span> │           <span style=\"color: #7f7f7f; text-decoration-color: #7f7f7f\">…</span> │ <span style=\"color: #7f7f7f; text-decoration-color: #7f7f7f\">…</span>      │     <span style=\"color: #7f7f7f; text-decoration-color: #7f7f7f\">…</span> │\n",
       "└─────────┴───────────┴────────────────┴───────────────┴───────────────────┴─────────────┴────────┴───────┘\n",
       "</pre>\n"
      ],
      "text/plain": [
       "┏━━━━━━━━━┳━━━━━━━━━━━┳━━━━━━━━━━━━━━━━┳━━━━━━━━━━━━━━━┳━━━━━━━━━━━━━━━━━━━┳━━━━━━━━━━━━━┳━━━━━━━━┳━━━━━━━┓\n",
       "┃\u001b[1m \u001b[0m\u001b[1mspecies\u001b[0m\u001b[1m \u001b[0m┃\u001b[1m \u001b[0m\u001b[1misland\u001b[0m\u001b[1m   \u001b[0m\u001b[1m \u001b[0m┃\u001b[1m \u001b[0m\u001b[1mbill_length_mm\u001b[0m\u001b[1m \u001b[0m┃\u001b[1m \u001b[0m\u001b[1mbill_depth_mm\u001b[0m\u001b[1m \u001b[0m┃\u001b[1m \u001b[0m\u001b[1mflipper_length_mm\u001b[0m\u001b[1m \u001b[0m┃\u001b[1m \u001b[0m\u001b[1mbody_mass_g\u001b[0m\u001b[1m \u001b[0m┃\u001b[1m \u001b[0m\u001b[1msex\u001b[0m\u001b[1m   \u001b[0m\u001b[1m \u001b[0m┃\u001b[1m \u001b[0m\u001b[1myear\u001b[0m\u001b[1m \u001b[0m\u001b[1m \u001b[0m┃\n",
       "┡━━━━━━━━━╇━━━━━━━━━━━╇━━━━━━━━━━━━━━━━╇━━━━━━━━━━━━━━━╇━━━━━━━━━━━━━━━━━━━╇━━━━━━━━━━━━━╇━━━━━━━━╇━━━━━━━┩\n",
       "│ \u001b[2mstring\u001b[0m  │ \u001b[2mstring\u001b[0m    │ \u001b[2mfloat64\u001b[0m        │ \u001b[2mfloat64\u001b[0m       │ \u001b[2mint64\u001b[0m             │ \u001b[2mint64\u001b[0m       │ \u001b[2mstring\u001b[0m │ \u001b[2mint64\u001b[0m │\n",
       "├─────────┼───────────┼────────────────┼───────────────┼───────────────────┼─────────────┼────────┼───────┤\n",
       "│ \u001b[32mAdelie \u001b[0m │ \u001b[32mTorgersen\u001b[0m │           \u001b[1;36m39.1\u001b[0m │          \u001b[1;36m18.7\u001b[0m │               \u001b[1;36m181\u001b[0m │        \u001b[1;36m3750\u001b[0m │ \u001b[32mmale  \u001b[0m │  \u001b[1;36m2007\u001b[0m │\n",
       "│ \u001b[32mAdelie \u001b[0m │ \u001b[32mTorgersen\u001b[0m │           \u001b[1;36m39.5\u001b[0m │          \u001b[1;36m17.4\u001b[0m │               \u001b[1;36m186\u001b[0m │        \u001b[1;36m3800\u001b[0m │ \u001b[32mfemale\u001b[0m │  \u001b[1;36m2007\u001b[0m │\n",
       "│ \u001b[32mAdelie \u001b[0m │ \u001b[32mTorgersen\u001b[0m │           \u001b[1;36m40.3\u001b[0m │          \u001b[1;36m18.0\u001b[0m │               \u001b[1;36m195\u001b[0m │        \u001b[1;36m3250\u001b[0m │ \u001b[32mfemale\u001b[0m │  \u001b[1;36m2007\u001b[0m │\n",
       "│ \u001b[32mAdelie \u001b[0m │ \u001b[32mTorgersen\u001b[0m │           \u001b[2mNULL\u001b[0m │          \u001b[2mNULL\u001b[0m │              \u001b[2mNULL\u001b[0m │        \u001b[2mNULL\u001b[0m │ \u001b[2mNULL\u001b[0m   │  \u001b[1;36m2007\u001b[0m │\n",
       "│ \u001b[32mAdelie \u001b[0m │ \u001b[32mTorgersen\u001b[0m │           \u001b[1;36m36.7\u001b[0m │          \u001b[1;36m19.3\u001b[0m │               \u001b[1;36m193\u001b[0m │        \u001b[1;36m3450\u001b[0m │ \u001b[32mfemale\u001b[0m │  \u001b[1;36m2007\u001b[0m │\n",
       "│ \u001b[32mAdelie \u001b[0m │ \u001b[32mTorgersen\u001b[0m │           \u001b[1;36m39.3\u001b[0m │          \u001b[1;36m20.6\u001b[0m │               \u001b[1;36m190\u001b[0m │        \u001b[1;36m3650\u001b[0m │ \u001b[32mmale  \u001b[0m │  \u001b[1;36m2007\u001b[0m │\n",
       "│ \u001b[32mAdelie \u001b[0m │ \u001b[32mTorgersen\u001b[0m │           \u001b[1;36m38.9\u001b[0m │          \u001b[1;36m17.8\u001b[0m │               \u001b[1;36m181\u001b[0m │        \u001b[1;36m3625\u001b[0m │ \u001b[32mfemale\u001b[0m │  \u001b[1;36m2007\u001b[0m │\n",
       "│ \u001b[32mAdelie \u001b[0m │ \u001b[32mTorgersen\u001b[0m │           \u001b[1;36m39.2\u001b[0m │          \u001b[1;36m19.6\u001b[0m │               \u001b[1;36m195\u001b[0m │        \u001b[1;36m4675\u001b[0m │ \u001b[32mmale  \u001b[0m │  \u001b[1;36m2007\u001b[0m │\n",
       "│ \u001b[32mAdelie \u001b[0m │ \u001b[32mTorgersen\u001b[0m │           \u001b[1;36m34.1\u001b[0m │          \u001b[1;36m18.1\u001b[0m │               \u001b[1;36m193\u001b[0m │        \u001b[1;36m3475\u001b[0m │ \u001b[2mNULL\u001b[0m   │  \u001b[1;36m2007\u001b[0m │\n",
       "│ \u001b[32mAdelie \u001b[0m │ \u001b[32mTorgersen\u001b[0m │           \u001b[1;36m42.0\u001b[0m │          \u001b[1;36m20.2\u001b[0m │               \u001b[1;36m190\u001b[0m │        \u001b[1;36m4250\u001b[0m │ \u001b[2mNULL\u001b[0m   │  \u001b[1;36m2007\u001b[0m │\n",
       "│ \u001b[2m…\u001b[0m       │ \u001b[2m…\u001b[0m         │              \u001b[2m…\u001b[0m │             \u001b[2m…\u001b[0m │                 \u001b[2m…\u001b[0m │           \u001b[2m…\u001b[0m │ \u001b[2m…\u001b[0m      │     \u001b[2m…\u001b[0m │\n",
       "└─────────┴───────────┴────────────────┴───────────────┴───────────────────┴─────────────┴────────┴───────┘"
      ]
     },
     "execution_count": 8,
     "metadata": {},
     "output_type": "execute_result"
    }
   ],
   "source": [
    "con.create_table(\n",
    "    \"penguins\",\n",
    "    ibis.examples.penguins.fetch().to_pyarrow(),\n",
    "    overwrite=True\n",
    ")"
   ]
  },
  {
   "cell_type": "markdown",
   "id": "ce7c7252-97ed-4248-b6ad-1e71a047d71c",
   "metadata": {},
   "source": [
    "Get the count for each species:"
   ]
  },
  {
   "cell_type": "code",
   "execution_count": 9,
   "id": "39c64a3b-1ab9-4646-a143-9620d995564e",
   "metadata": {},
   "outputs": [
    {
     "data": {
      "text/html": [
       "<pre style=\"white-space:pre;overflow-x:auto;line-height:normal;font-family:Menlo,'DejaVu Sans Mono',consolas,'Courier New',monospace\">┏━━━━━━━━━━━┳━━━━━━━━━━━━━━━━━━━━━┓\n",
       "┃<span style=\"font-weight: bold\"> species   </span>┃<span style=\"font-weight: bold\"> CountStar(penguins) </span>┃\n",
       "┡━━━━━━━━━━━╇━━━━━━━━━━━━━━━━━━━━━┩\n",
       "│ <span style=\"color: #7f7f7f; text-decoration-color: #7f7f7f\">string</span>    │ <span style=\"color: #7f7f7f; text-decoration-color: #7f7f7f\">int64</span>               │\n",
       "├───────────┼─────────────────────┤\n",
       "│ <span style=\"color: #008000; text-decoration-color: #008000\">Adelie   </span> │                 <span style=\"color: #008080; text-decoration-color: #008080; font-weight: bold\">152</span> │\n",
       "│ <span style=\"color: #008000; text-decoration-color: #008000\">Chinstrap</span> │                  <span style=\"color: #008080; text-decoration-color: #008080; font-weight: bold\">68</span> │\n",
       "│ <span style=\"color: #008000; text-decoration-color: #008000\">Gentoo   </span> │                 <span style=\"color: #008080; text-decoration-color: #008080; font-weight: bold\">124</span> │\n",
       "└───────────┴─────────────────────┘\n",
       "</pre>\n"
      ],
      "text/plain": [
       "┏━━━━━━━━━━━┳━━━━━━━━━━━━━━━━━━━━━┓\n",
       "┃\u001b[1m \u001b[0m\u001b[1mspecies\u001b[0m\u001b[1m  \u001b[0m\u001b[1m \u001b[0m┃\u001b[1m \u001b[0m\u001b[1mCountStar(penguins)\u001b[0m\u001b[1m \u001b[0m┃\n",
       "┡━━━━━━━━━━━╇━━━━━━━━━━━━━━━━━━━━━┩\n",
       "│ \u001b[2mstring\u001b[0m    │ \u001b[2mint64\u001b[0m               │\n",
       "├───────────┼─────────────────────┤\n",
       "│ \u001b[32mAdelie   \u001b[0m │                 \u001b[1;36m152\u001b[0m │\n",
       "│ \u001b[32mChinstrap\u001b[0m │                  \u001b[1;36m68\u001b[0m │\n",
       "│ \u001b[32mGentoo   \u001b[0m │                 \u001b[1;36m124\u001b[0m │\n",
       "└───────────┴─────────────────────┘"
      ]
     },
     "execution_count": 9,
     "metadata": {},
     "output_type": "execute_result"
    }
   ],
   "source": [
    "penguins = con.table(\"penguins\")\n",
    "penguins.group_by(\"species\").count()"
   ]
  },
  {
   "cell_type": "markdown",
   "id": "29c82222-0cea-430b-9675-ba9a92a66f3c",
   "metadata": {},
   "source": [
    "Close the connection:"
   ]
  },
  {
   "cell_type": "code",
   "execution_count": 10,
   "id": "452f3da4-8f77-4feb-b34a-eb1000ddca11",
   "metadata": {},
   "outputs": [],
   "source": [
    "con.disconnect()"
   ]
  }
 ],
 "metadata": {
  "kernelspec": {
   "display_name": "Python 3 (ipykernel)",
   "language": "python",
   "name": "python3"
  },
  "language_info": {
   "codemirror_mode": {
    "name": "ipython",
    "version": 3
   },
   "file_extension": ".py",
   "mimetype": "text/x-python",
   "name": "python",
   "nbconvert_exporter": "python",
   "pygments_lexer": "ipython3",
   "version": "3.13.5"
  }
 },
 "nbformat": 4,
 "nbformat_minor": 5
}
