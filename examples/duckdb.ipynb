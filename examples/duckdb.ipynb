{
 "cells": [
  {
   "cell_type": "markdown",
   "id": "5b700e88-5d68-4445-974f-0786886b0d29",
   "metadata": {},
   "source": [
    "# DuckDB Python API DuckLake Example\n",
    "\n",
    "An example notebook showing how to use the [DuckDB Python API](https://duckdb.org/docs/stable/clients/python/overview.html) with DuckLake."
   ]
  },
  {
   "cell_type": "markdown",
   "id": "81c02af9-0f6b-49da-a1fc-d45e867cb88e",
   "metadata": {},
   "source": [
    "Install DuckDB:"
   ]
  },
  {
   "cell_type": "code",
   "execution_count": null,
   "id": "653ae7b6-b449-4be2-be21-3caa3dfb3c8c",
   "metadata": {},
   "outputs": [],
   "source": [
    "!pip install duckdb"
   ]
  },
  {
   "cell_type": "markdown",
   "id": "5ef826e7-208e-4561-aeb6-fa1879064b53",
   "metadata": {},
   "source": [
    "Import the `duckdb` package:"
   ]
  },
  {
   "cell_type": "code",
   "execution_count": 2,
   "id": "d8e1e854-4cfd-461a-bed9-a3c2da79fbb6",
   "metadata": {},
   "outputs": [],
   "source": [
    "import duckdb"
   ]
  },
  {
   "cell_type": "markdown",
   "id": "c73ecf52-622a-45e4-9f0e-ade649f67875",
   "metadata": {},
   "source": [
    "Connect to an in-memory DuckDB database:"
   ]
  },
  {
   "cell_type": "code",
   "execution_count": 3,
   "id": "c4091759-ee23-404f-9e92-871ec72de5c3",
   "metadata": {},
   "outputs": [],
   "source": [
    "con = duckdb.connect()"
   ]
  },
  {
   "cell_type": "markdown",
   "id": "fb6589fb-2444-4a61-b1b5-b93b626f9717",
   "metadata": {},
   "source": [
    "Install the `ducklake` extension:"
   ]
  },
  {
   "cell_type": "code",
   "execution_count": 4,
   "id": "b95647fe-7461-4ee6-9c7a-965b2d3fd7c8",
   "metadata": {},
   "outputs": [],
   "source": [
    "con.install_extension(\"ducklake\")"
   ]
  },
  {
   "cell_type": "markdown",
   "id": "4ab2a7f2-a619-48c0-923c-b34a7593277c",
   "metadata": {},
   "source": [
    "Attach to DuckLake and select the `my_ducklake` database:"
   ]
  },
  {
   "cell_type": "code",
   "execution_count": 5,
   "id": "9600214f-1bf5-46ea-866a-e18a548454de",
   "metadata": {},
   "outputs": [],
   "source": [
    "con.sql(\"ATTACH 'ducklake:metadata.ducklake' AS my_ducklake\")\n",
    "con.sql(\"USE my_ducklake\")"
   ]
  },
  {
   "cell_type": "markdown",
   "id": "d9ccf415-41aa-4766-b0d1-9601a8307a79",
   "metadata": {},
   "source": [
    "Create a table:"
   ]
  },
  {
   "cell_type": "code",
   "execution_count": 6,
   "id": "7afdbd51-2f86-4f98-893d-c36b7a3c11d0",
   "metadata": {},
   "outputs": [],
   "source": [
    "con.sql(\"\"\"\n",
    "CREATE TABLE IF NOT EXISTS penguins AS\n",
    "    FROM 'http://blobs.duckdb.org/data/penguins.csv'\n",
    "\"\"\")"
   ]
  },
  {
   "cell_type": "markdown",
   "id": "76f1690b-9612-4a80-aa5d-b1869af669d1",
   "metadata": {},
   "source": [
    "Query the table:"
   ]
  },
  {
   "cell_type": "code",
   "execution_count": 7,
   "id": "cd112db3-5b18-4997-99f8-6cdd8916a165",
   "metadata": {},
   "outputs": [
    {
     "data": {
      "text/plain": [
       "┌─────────┬───────────┬────────────────┬───────────────┬───────────────────┬─────────────┬─────────┬───────┐\n",
       "│ species │  island   │ bill_length_mm │ bill_depth_mm │ flipper_length_mm │ body_mass_g │   sex   │ year  │\n",
       "│ varchar │  varchar  │    varchar     │    varchar    │      varchar      │   varchar   │ varchar │ int64 │\n",
       "├─────────┼───────────┼────────────────┼───────────────┼───────────────────┼─────────────┼─────────┼───────┤\n",
       "│ Adelie  │ Torgersen │ 39.1           │ 18.7          │ 181               │ 3750        │ male    │  2007 │\n",
       "│ Adelie  │ Torgersen │ 39.5           │ 17.4          │ 186               │ 3800        │ female  │  2007 │\n",
       "│ Adelie  │ Torgersen │ 40.3           │ 18            │ 195               │ 3250        │ female  │  2007 │\n",
       "│ Adelie  │ Torgersen │ NA             │ NA            │ NA                │ NA          │ NA      │  2007 │\n",
       "│ Adelie  │ Torgersen │ 36.7           │ 19.3          │ 193               │ 3450        │ female  │  2007 │\n",
       "│ Adelie  │ Torgersen │ 39.3           │ 20.6          │ 190               │ 3650        │ male    │  2007 │\n",
       "│ Adelie  │ Torgersen │ 38.9           │ 17.8          │ 181               │ 3625        │ female  │  2007 │\n",
       "│ Adelie  │ Torgersen │ 39.2           │ 19.6          │ 195               │ 4675        │ male    │  2007 │\n",
       "│ Adelie  │ Torgersen │ 34.1           │ 18.1          │ 193               │ 3475        │ NA      │  2007 │\n",
       "│ Adelie  │ Torgersen │ 42             │ 20.2          │ 190               │ 4250        │ NA      │  2007 │\n",
       "├─────────┴───────────┴────────────────┴───────────────┴───────────────────┴─────────────┴─────────┴───────┤\n",
       "│ 10 rows                                                                                        8 columns │\n",
       "└──────────────────────────────────────────────────────────────────────────────────────────────────────────┘"
      ]
     },
     "execution_count": 7,
     "metadata": {},
     "output_type": "execute_result"
    }
   ],
   "source": [
    "con.sql(\"SELECT * FROM penguins LIMIT 10\")"
   ]
  },
  {
   "cell_type": "markdown",
   "id": "106e7437-8e7b-4b79-891f-56d3485c897b",
   "metadata": {},
   "source": [
    "Close the connection:"
   ]
  },
  {
   "cell_type": "code",
   "execution_count": 8,
   "id": "5cfe08cf-124e-4db1-a259-72fe058d9927",
   "metadata": {},
   "outputs": [],
   "source": [
    "con.close()"
   ]
  }
 ],
 "metadata": {
  "kernelspec": {
   "display_name": "Python 3 (ipykernel)",
   "language": "python",
   "name": "python3"
  },
  "language_info": {
   "codemirror_mode": {
    "name": "ipython",
    "version": 3
   },
   "file_extension": ".py",
   "mimetype": "text/x-python",
   "name": "python",
   "nbconvert_exporter": "python",
   "pygments_lexer": "ipython3",
   "version": "3.13.5"
  }
 },
 "nbformat": 4,
 "nbformat_minor": 5
}
