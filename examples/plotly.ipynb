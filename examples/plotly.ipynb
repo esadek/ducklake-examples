{
 "cells": [
  {
   "cell_type": "markdown",
   "id": "faa4a490-7ee0-4c30-a5cf-72f37069c320",
   "metadata": {},
   "source": [
    "# Plotly Ducklake Example\n",
    "\n",
    "An example notebook showing how to use the [Plotly](https://plotly.com/python/) visualization library with DuckLake."
   ]
  },
  {
   "cell_type": "markdown",
   "id": "3b82ebce-c16b-4252-94c9-fa444381b718",
   "metadata": {},
   "source": [
    "Install DuckDB, Plotly and PyArrow:"
   ]
  },
  {
   "cell_type": "code",
   "execution_count": null,
   "id": "026bee71-8a59-46d6-a1a0-c7b9e3211b00",
   "metadata": {},
   "outputs": [],
   "source": [
    "!pip install duckdb \"plotly[express]\" pyarrow"
   ]
  },
  {
   "cell_type": "markdown",
   "id": "bbe84362-ad13-43e3-9da6-8fabea72bf10",
   "metadata": {},
   "source": [
    "Import the `duckdb` package and `plotly.express` module:"
   ]
  },
  {
   "cell_type": "code",
   "execution_count": 2,
   "id": "85944b45-7f89-4607-beb6-dc63c04b38fa",
   "metadata": {},
   "outputs": [],
   "source": [
    "import duckdb\n",
    "import plotly.express as px"
   ]
  },
  {
   "cell_type": "markdown",
   "id": "01c20375-e51f-4940-a211-4152ff1250fd",
   "metadata": {},
   "source": [
    "Connect to DuckLake:"
   ]
  },
  {
   "cell_type": "code",
   "execution_count": 3,
   "id": "9148f23d-d4d3-4bfa-8311-f1e042c58719",
   "metadata": {},
   "outputs": [],
   "source": [
    "con = duckdb.connect()\n",
    "con.install_extension(\"ducklake\")\n",
    "con.sql(\"ATTACH 'ducklake:metadata.ducklake' AS my_ducklake\")\n",
    "con.sql(\"USE my_ducklake\")"
   ]
  },
  {
   "cell_type": "markdown",
   "id": "dec4c1fc-8449-44d5-8778-51681d0dd1ad",
   "metadata": {},
   "source": [
    "Create a table:"
   ]
  },
  {
   "cell_type": "code",
   "execution_count": 4,
   "id": "87c7a756-21d7-4620-9af9-b5759f1970ad",
   "metadata": {},
   "outputs": [],
   "source": [
    "con.sql(\"\"\"\n",
    "CREATE TABLE IF NOT EXISTS penguins AS\n",
    "    FROM 'http://blobs.duckdb.org/data/penguins.csv'\n",
    "\"\"\")"
   ]
  },
  {
   "cell_type": "markdown",
   "id": "56a2200e-7663-4302-a481-86986181ac2d",
   "metadata": {},
   "source": [
    "Fetch the table as an Arrow Table:"
   ]
  },
  {
   "cell_type": "code",
   "execution_count": 5,
   "id": "26accd9a-6417-4d4e-b824-5166e67bf41a",
   "metadata": {},
   "outputs": [],
   "source": [
    "penguins = con.table(\"penguins\").arrow()"
   ]
  },
  {
   "cell_type": "markdown",
   "id": "6d5c0b56-1b36-456a-a03a-53316b2be7f7",
   "metadata": {},
   "source": [
    "Create a visualization:"
   ]
  },
  {
   "cell_type": "code",
   "execution_count": 6,
   "id": "383a666f-3dbe-4de8-a61e-752d536832a9",
   "metadata": {},
   "outputs": [
    {
     "data": {
      "application/vnd.plotly.v1+json": {
       "config": {
        "plotlyServerURL": "https://plot.ly"
       },
       "data": [
        {
         "customdata": [
          [
           "Adelie",
           "Torgersen",
           "181",
           "3750",
           "male",
           2007
          ],
          [
           "Adelie",
           "Torgersen",
           "186",
           "3800",
           "female",
           2007
          ],
          [
           "Adelie",
           "Torgersen",
           "195",
           "3250",
           "female",
           2007
          ],
          [
           "Adelie",
           "Torgersen",
           "NA",
           "NA",
           "NA",
           2007
          ],
          [
           "Adelie",
           "Torgersen",
           "193",
           "3450",
           "female",
           2007
          ],
          [
           "Adelie",
           "Torgersen",
           "190",
           "3650",
           "male",
           2007
          ],
          [
           "Adelie",
           "Torgersen",
           "181",
           "3625",
           "female",
           2007
          ],
          [
           "Adelie",
           "Torgersen",
           "195",
           "4675",
           "male",
           2007
          ],
          [
           "Adelie",
           "Torgersen",
           "193",
           "3475",
           "NA",
           2007
          ],
          [
           "Adelie",
           "Torgersen",
           "190",
           "4250",
           "NA",
           2007
          ],
          [
           "Adelie",
           "Torgersen",
           "186",
           "3300",
           "NA",
           2007
          ],
          [
           "Adelie",
           "Torgersen",
           "180",
           "3700",
           "NA",
           2007
          ],
          [
           "Adelie",
           "Torgersen",
           "182",
           "3200",
           "female",
           2007
          ],
          [
           "Adelie",
           "Torgersen",
           "191",
           "3800",
           "male",
           2007
          ],
          [
           "Adelie",
           "Torgersen",
           "198",
           "4400",
           "male",
           2007
          ],
          [
           "Adelie",
           "Torgersen",
           "185",
           "3700",
           "female",
           2007
          ],
          [
           "Adelie",
           "Torgersen",
           "195",
           "3450",
           "female",
           2007
          ],
          [
           "Adelie",
           "Torgersen",
           "197",
           "4500",
           "male",
           2007
          ],
          [
           "Adelie",
           "Torgersen",
           "184",
           "3325",
           "female",
           2007
          ],
          [
           "Adelie",
           "Torgersen",
           "194",
           "4200",
           "male",
           2007
          ],
          [
           "Adelie",
           "Biscoe",
           "174",
           "3400",
           "female",
           2007
          ],
          [
           "Adelie",
           "Biscoe",
           "180",
           "3600",
           "male",
           2007
          ],
          [
           "Adelie",
           "Biscoe",
           "189",
           "3800",
           "female",
           2007
          ],
          [
           "Adelie",
           "Biscoe",
           "185",
           "3950",
           "male",
           2007
          ],
          [
           "Adelie",
           "Biscoe",
           "180",
           "3800",
           "male",
           2007
          ],
          [
           "Adelie",
           "Biscoe",
           "187",
           "3800",
           "female",
           2007
          ],
          [
           "Adelie",
           "Biscoe",
           "183",
           "3550",
           "male",
           2007
          ],
          [
           "Adelie",
           "Biscoe",
           "187",
           "3200",
           "female",
           2007
          ],
          [
           "Adelie",
           "Biscoe",
           "172",
           "3150",
           "female",
           2007
          ],
          [
           "Adelie",
           "Biscoe",
           "180",
           "3950",
           "male",
           2007
          ],
          [
           "Adelie",
           "Dream",
           "178",
           "3250",
           "female",
           2007
          ],
          [
           "Adelie",
           "Dream",
           "178",
           "3900",
           "male",
           2007
          ],
          [
           "Adelie",
           "Dream",
           "188",
           "3300",
           "female",
           2007
          ],
          [
           "Adelie",
           "Dream",
           "184",
           "3900",
           "male",
           2007
          ],
          [
           "Adelie",
           "Dream",
           "195",
           "3325",
           "female",
           2007
          ],
          [
           "Adelie",
           "Dream",
           "196",
           "4150",
           "male",
           2007
          ],
          [
           "Adelie",
           "Dream",
           "190",
           "3950",
           "male",
           2007
          ],
          [
           "Adelie",
           "Dream",
           "180",
           "3550",
           "female",
           2007
          ],
          [
           "Adelie",
           "Dream",
           "181",
           "3300",
           "female",
           2007
          ],
          [
           "Adelie",
           "Dream",
           "184",
           "4650",
           "male",
           2007
          ],
          [
           "Adelie",
           "Dream",
           "182",
           "3150",
           "female",
           2007
          ],
          [
           "Adelie",
           "Dream",
           "195",
           "3900",
           "male",
           2007
          ],
          [
           "Adelie",
           "Dream",
           "186",
           "3100",
           "female",
           2007
          ],
          [
           "Adelie",
           "Dream",
           "196",
           "4400",
           "male",
           2007
          ],
          [
           "Adelie",
           "Dream",
           "185",
           "3000",
           "female",
           2007
          ],
          [
           "Adelie",
           "Dream",
           "190",
           "4600",
           "male",
           2007
          ],
          [
           "Adelie",
           "Dream",
           "182",
           "3425",
           "male",
           2007
          ],
          [
           "Adelie",
           "Dream",
           "179",
           "2975",
           "NA",
           2007
          ],
          [
           "Adelie",
           "Dream",
           "190",
           "3450",
           "female",
           2007
          ],
          [
           "Adelie",
           "Dream",
           "191",
           "4150",
           "male",
           2007
          ],
          [
           "Adelie",
           "Biscoe",
           "186",
           "3500",
           "female",
           2008
          ],
          [
           "Adelie",
           "Biscoe",
           "188",
           "4300",
           "male",
           2008
          ],
          [
           "Adelie",
           "Biscoe",
           "190",
           "3450",
           "female",
           2008
          ],
          [
           "Adelie",
           "Biscoe",
           "200",
           "4050",
           "male",
           2008
          ],
          [
           "Adelie",
           "Biscoe",
           "187",
           "2900",
           "female",
           2008
          ],
          [
           "Adelie",
           "Biscoe",
           "191",
           "3700",
           "male",
           2008
          ],
          [
           "Adelie",
           "Biscoe",
           "186",
           "3550",
           "female",
           2008
          ],
          [
           "Adelie",
           "Biscoe",
           "193",
           "3800",
           "male",
           2008
          ],
          [
           "Adelie",
           "Biscoe",
           "181",
           "2850",
           "female",
           2008
          ],
          [
           "Adelie",
           "Biscoe",
           "194",
           "3750",
           "male",
           2008
          ],
          [
           "Adelie",
           "Biscoe",
           "185",
           "3150",
           "female",
           2008
          ],
          [
           "Adelie",
           "Biscoe",
           "195",
           "4400",
           "male",
           2008
          ],
          [
           "Adelie",
           "Biscoe",
           "185",
           "3600",
           "female",
           2008
          ],
          [
           "Adelie",
           "Biscoe",
           "192",
           "4050",
           "male",
           2008
          ],
          [
           "Adelie",
           "Biscoe",
           "184",
           "2850",
           "female",
           2008
          ],
          [
           "Adelie",
           "Biscoe",
           "192",
           "3950",
           "male",
           2008
          ],
          [
           "Adelie",
           "Biscoe",
           "195",
           "3350",
           "female",
           2008
          ],
          [
           "Adelie",
           "Biscoe",
           "188",
           "4100",
           "male",
           2008
          ],
          [
           "Adelie",
           "Torgersen",
           "190",
           "3050",
           "female",
           2008
          ],
          [
           "Adelie",
           "Torgersen",
           "198",
           "4450",
           "male",
           2008
          ],
          [
           "Adelie",
           "Torgersen",
           "190",
           "3600",
           "female",
           2008
          ],
          [
           "Adelie",
           "Torgersen",
           "190",
           "3900",
           "male",
           2008
          ],
          [
           "Adelie",
           "Torgersen",
           "196",
           "3550",
           "female",
           2008
          ],
          [
           "Adelie",
           "Torgersen",
           "197",
           "4150",
           "male",
           2008
          ],
          [
           "Adelie",
           "Torgersen",
           "190",
           "3700",
           "female",
           2008
          ],
          [
           "Adelie",
           "Torgersen",
           "195",
           "4250",
           "male",
           2008
          ],
          [
           "Adelie",
           "Torgersen",
           "191",
           "3700",
           "female",
           2008
          ],
          [
           "Adelie",
           "Torgersen",
           "184",
           "3900",
           "male",
           2008
          ],
          [
           "Adelie",
           "Torgersen",
           "187",
           "3550",
           "female",
           2008
          ],
          [
           "Adelie",
           "Torgersen",
           "195",
           "4000",
           "male",
           2008
          ],
          [
           "Adelie",
           "Torgersen",
           "189",
           "3200",
           "female",
           2008
          ],
          [
           "Adelie",
           "Torgersen",
           "196",
           "4700",
           "male",
           2008
          ],
          [
           "Adelie",
           "Torgersen",
           "187",
           "3800",
           "female",
           2008
          ],
          [
           "Adelie",
           "Torgersen",
           "193",
           "4200",
           "male",
           2008
          ],
          [
           "Adelie",
           "Dream",
           "191",
           "3350",
           "female",
           2008
          ],
          [
           "Adelie",
           "Dream",
           "194",
           "3550",
           "male",
           2008
          ],
          [
           "Adelie",
           "Dream",
           "190",
           "3800",
           "male",
           2008
          ],
          [
           "Adelie",
           "Dream",
           "189",
           "3500",
           "female",
           2008
          ],
          [
           "Adelie",
           "Dream",
           "189",
           "3950",
           "male",
           2008
          ],
          [
           "Adelie",
           "Dream",
           "190",
           "3600",
           "female",
           2008
          ],
          [
           "Adelie",
           "Dream",
           "202",
           "3550",
           "female",
           2008
          ],
          [
           "Adelie",
           "Dream",
           "205",
           "4300",
           "male",
           2008
          ],
          [
           "Adelie",
           "Dream",
           "185",
           "3400",
           "female",
           2008
          ],
          [
           "Adelie",
           "Dream",
           "186",
           "4450",
           "male",
           2008
          ],
          [
           "Adelie",
           "Dream",
           "187",
           "3300",
           "female",
           2008
          ],
          [
           "Adelie",
           "Dream",
           "208",
           "4300",
           "male",
           2008
          ],
          [
           "Adelie",
           "Dream",
           "190",
           "3700",
           "female",
           2008
          ],
          [
           "Adelie",
           "Dream",
           "196",
           "4350",
           "male",
           2008
          ],
          [
           "Adelie",
           "Dream",
           "178",
           "2900",
           "female",
           2008
          ],
          [
           "Adelie",
           "Dream",
           "192",
           "4100",
           "male",
           2008
          ],
          [
           "Adelie",
           "Biscoe",
           "192",
           "3725",
           "female",
           2009
          ],
          [
           "Adelie",
           "Biscoe",
           "203",
           "4725",
           "male",
           2009
          ],
          [
           "Adelie",
           "Biscoe",
           "183",
           "3075",
           "female",
           2009
          ],
          [
           "Adelie",
           "Biscoe",
           "190",
           "4250",
           "male",
           2009
          ],
          [
           "Adelie",
           "Biscoe",
           "193",
           "2925",
           "female",
           2009
          ],
          [
           "Adelie",
           "Biscoe",
           "184",
           "3550",
           "male",
           2009
          ],
          [
           "Adelie",
           "Biscoe",
           "199",
           "3750",
           "female",
           2009
          ],
          [
           "Adelie",
           "Biscoe",
           "190",
           "3900",
           "male",
           2009
          ],
          [
           "Adelie",
           "Biscoe",
           "181",
           "3175",
           "female",
           2009
          ],
          [
           "Adelie",
           "Biscoe",
           "197",
           "4775",
           "male",
           2009
          ],
          [
           "Adelie",
           "Biscoe",
           "198",
           "3825",
           "female",
           2009
          ],
          [
           "Adelie",
           "Biscoe",
           "191",
           "4600",
           "male",
           2009
          ],
          [
           "Adelie",
           "Biscoe",
           "193",
           "3200",
           "female",
           2009
          ],
          [
           "Adelie",
           "Biscoe",
           "197",
           "4275",
           "male",
           2009
          ],
          [
           "Adelie",
           "Biscoe",
           "191",
           "3900",
           "female",
           2009
          ],
          [
           "Adelie",
           "Biscoe",
           "196",
           "4075",
           "male",
           2009
          ],
          [
           "Adelie",
           "Torgersen",
           "188",
           "2900",
           "female",
           2009
          ],
          [
           "Adelie",
           "Torgersen",
           "199",
           "3775",
           "male",
           2009
          ],
          [
           "Adelie",
           "Torgersen",
           "189",
           "3350",
           "female",
           2009
          ],
          [
           "Adelie",
           "Torgersen",
           "189",
           "3325",
           "male",
           2009
          ],
          [
           "Adelie",
           "Torgersen",
           "187",
           "3150",
           "female",
           2009
          ],
          [
           "Adelie",
           "Torgersen",
           "198",
           "3500",
           "male",
           2009
          ],
          [
           "Adelie",
           "Torgersen",
           "176",
           "3450",
           "female",
           2009
          ],
          [
           "Adelie",
           "Torgersen",
           "202",
           "3875",
           "male",
           2009
          ],
          [
           "Adelie",
           "Torgersen",
           "186",
           "3050",
           "female",
           2009
          ],
          [
           "Adelie",
           "Torgersen",
           "199",
           "4000",
           "male",
           2009
          ],
          [
           "Adelie",
           "Torgersen",
           "191",
           "3275",
           "female",
           2009
          ],
          [
           "Adelie",
           "Torgersen",
           "195",
           "4300",
           "male",
           2009
          ],
          [
           "Adelie",
           "Torgersen",
           "191",
           "3050",
           "female",
           2009
          ],
          [
           "Adelie",
           "Torgersen",
           "210",
           "4000",
           "male",
           2009
          ],
          [
           "Adelie",
           "Torgersen",
           "190",
           "3325",
           "female",
           2009
          ],
          [
           "Adelie",
           "Torgersen",
           "197",
           "3500",
           "male",
           2009
          ],
          [
           "Adelie",
           "Dream",
           "193",
           "3500",
           "female",
           2009
          ],
          [
           "Adelie",
           "Dream",
           "199",
           "4475",
           "male",
           2009
          ],
          [
           "Adelie",
           "Dream",
           "187",
           "3425",
           "female",
           2009
          ],
          [
           "Adelie",
           "Dream",
           "190",
           "3900",
           "male",
           2009
          ],
          [
           "Adelie",
           "Dream",
           "191",
           "3175",
           "female",
           2009
          ],
          [
           "Adelie",
           "Dream",
           "200",
           "3975",
           "male",
           2009
          ],
          [
           "Adelie",
           "Dream",
           "185",
           "3400",
           "female",
           2009
          ],
          [
           "Adelie",
           "Dream",
           "193",
           "4250",
           "male",
           2009
          ],
          [
           "Adelie",
           "Dream",
           "193",
           "3400",
           "female",
           2009
          ],
          [
           "Adelie",
           "Dream",
           "187",
           "3475",
           "male",
           2009
          ],
          [
           "Adelie",
           "Dream",
           "188",
           "3050",
           "female",
           2009
          ],
          [
           "Adelie",
           "Dream",
           "190",
           "3725",
           "male",
           2009
          ],
          [
           "Adelie",
           "Dream",
           "192",
           "3000",
           "female",
           2009
          ],
          [
           "Adelie",
           "Dream",
           "185",
           "3650",
           "male",
           2009
          ],
          [
           "Adelie",
           "Dream",
           "190",
           "4250",
           "male",
           2009
          ],
          [
           "Adelie",
           "Dream",
           "184",
           "3475",
           "female",
           2009
          ],
          [
           "Adelie",
           "Dream",
           "195",
           "3450",
           "female",
           2009
          ],
          [
           "Adelie",
           "Dream",
           "193",
           "3750",
           "male",
           2009
          ],
          [
           "Adelie",
           "Dream",
           "187",
           "3700",
           "female",
           2009
          ],
          [
           "Adelie",
           "Dream",
           "201",
           "4000",
           "male",
           2009
          ]
         ],
         "hovertemplate": "species=%{customdata[0]}<br>bill_length_mm=%{x}<br>bill_depth_mm=%{y}<br>island=%{customdata[1]}<br>flipper_length_mm=%{customdata[2]}<br>body_mass_g=%{customdata[3]}<br>sex=%{customdata[4]}<br>year=%{customdata[5]}<extra></extra>",
         "legendgroup": "Adelie",
         "marker": {
          "color": "#636efa",
          "symbol": "circle"
         },
         "mode": "markers",
         "name": "Adelie",
         "orientation": "v",
         "showlegend": true,
         "type": "scatter",
         "x": [
          "39.1",
          "39.5",
          "40.3",
          "NA",
          "36.7",
          "39.3",
          "38.9",
          "39.2",
          "34.1",
          "42",
          "37.8",
          "37.8",
          "41.1",
          "38.6",
          "34.6",
          "36.6",
          "38.7",
          "42.5",
          "34.4",
          "46",
          "37.8",
          "37.7",
          "35.9",
          "38.2",
          "38.8",
          "35.3",
          "40.6",
          "40.5",
          "37.9",
          "40.5",
          "39.5",
          "37.2",
          "39.5",
          "40.9",
          "36.4",
          "39.2",
          "38.8",
          "42.2",
          "37.6",
          "39.8",
          "36.5",
          "40.8",
          "36",
          "44.1",
          "37",
          "39.6",
          "41.1",
          "37.5",
          "36",
          "42.3",
          "39.6",
          "40.1",
          "35",
          "42",
          "34.5",
          "41.4",
          "39",
          "40.6",
          "36.5",
          "37.6",
          "35.7",
          "41.3",
          "37.6",
          "41.1",
          "36.4",
          "41.6",
          "35.5",
          "41.1",
          "35.9",
          "41.8",
          "33.5",
          "39.7",
          "39.6",
          "45.8",
          "35.5",
          "42.8",
          "40.9",
          "37.2",
          "36.2",
          "42.1",
          "34.6",
          "42.9",
          "36.7",
          "35.1",
          "37.3",
          "41.3",
          "36.3",
          "36.9",
          "38.3",
          "38.9",
          "35.7",
          "41.1",
          "34",
          "39.6",
          "36.2",
          "40.8",
          "38.1",
          "40.3",
          "33.1",
          "43.2",
          "35",
          "41",
          "37.7",
          "37.8",
          "37.9",
          "39.7",
          "38.6",
          "38.2",
          "38.1",
          "43.2",
          "38.1",
          "45.6",
          "39.7",
          "42.2",
          "39.6",
          "42.7",
          "38.6",
          "37.3",
          "35.7",
          "41.1",
          "36.2",
          "37.7",
          "40.2",
          "41.4",
          "35.2",
          "40.6",
          "38.8",
          "41.5",
          "39",
          "44.1",
          "38.5",
          "43.1",
          "36.8",
          "37.5",
          "38.1",
          "41.1",
          "35.6",
          "40.2",
          "37",
          "39.7",
          "40.2",
          "40.6",
          "32.1",
          "40.7",
          "37.3",
          "39",
          "39.2",
          "36.6",
          "36",
          "37.8",
          "36",
          "41.5"
         ],
         "xaxis": "x",
         "y": [
          "18.7",
          "17.4",
          "18",
          "NA",
          "19.3",
          "20.6",
          "17.8",
          "19.6",
          "18.1",
          "20.2",
          "17.1",
          "17.3",
          "17.6",
          "21.2",
          "21.1",
          "17.8",
          "19",
          "20.7",
          "18.4",
          "21.5",
          "18.3",
          "18.7",
          "19.2",
          "18.1",
          "17.2",
          "18.9",
          "18.6",
          "17.9",
          "18.6",
          "18.9",
          "16.7",
          "18.1",
          "17.8",
          "18.9",
          "17",
          "21.1",
          "20",
          "18.5",
          "19.3",
          "19.1",
          "18",
          "18.4",
          "18.5",
          "19.7",
          "16.9",
          "18.8",
          "19",
          "18.9",
          "17.9",
          "21.2",
          "17.7",
          "18.9",
          "17.9",
          "19.5",
          "18.1",
          "18.6",
          "17.5",
          "18.8",
          "16.6",
          "19.1",
          "16.9",
          "21.1",
          "17",
          "18.2",
          "17.1",
          "18",
          "16.2",
          "19.1",
          "16.6",
          "19.4",
          "19",
          "18.4",
          "17.2",
          "18.9",
          "17.5",
          "18.5",
          "16.8",
          "19.4",
          "16.1",
          "19.1",
          "17.2",
          "17.6",
          "18.8",
          "19.4",
          "17.8",
          "20.3",
          "19.5",
          "18.6",
          "19.2",
          "18.8",
          "18",
          "18.1",
          "17.1",
          "18.1",
          "17.3",
          "18.9",
          "18.6",
          "18.5",
          "16.1",
          "18.5",
          "17.9",
          "20",
          "16",
          "20",
          "18.6",
          "18.9",
          "17.2",
          "20",
          "17",
          "19",
          "16.5",
          "20.3",
          "17.7",
          "19.5",
          "20.7",
          "18.3",
          "17",
          "20.5",
          "17",
          "18.6",
          "17.2",
          "19.8",
          "17",
          "18.5",
          "15.9",
          "19",
          "17.6",
          "18.3",
          "17.1",
          "18",
          "17.9",
          "19.2",
          "18.5",
          "18.5",
          "17.6",
          "17.5",
          "17.5",
          "20.1",
          "16.5",
          "17.9",
          "17.1",
          "17.2",
          "15.5",
          "17",
          "16.8",
          "18.7",
          "18.6",
          "18.4",
          "17.8",
          "18.1",
          "17.1",
          "18.5"
         ],
         "yaxis": "y"
        },
        {
         "customdata": [
          [
           "Gentoo",
           "Biscoe",
           "211",
           "4500",
           "female",
           2007
          ],
          [
           "Gentoo",
           "Biscoe",
           "230",
           "5700",
           "male",
           2007
          ],
          [
           "Gentoo",
           "Biscoe",
           "210",
           "4450",
           "female",
           2007
          ],
          [
           "Gentoo",
           "Biscoe",
           "218",
           "5700",
           "male",
           2007
          ],
          [
           "Gentoo",
           "Biscoe",
           "215",
           "5400",
           "male",
           2007
          ],
          [
           "Gentoo",
           "Biscoe",
           "210",
           "4550",
           "female",
           2007
          ],
          [
           "Gentoo",
           "Biscoe",
           "211",
           "4800",
           "female",
           2007
          ],
          [
           "Gentoo",
           "Biscoe",
           "219",
           "5200",
           "male",
           2007
          ],
          [
           "Gentoo",
           "Biscoe",
           "209",
           "4400",
           "female",
           2007
          ],
          [
           "Gentoo",
           "Biscoe",
           "215",
           "5150",
           "male",
           2007
          ],
          [
           "Gentoo",
           "Biscoe",
           "214",
           "4650",
           "female",
           2007
          ],
          [
           "Gentoo",
           "Biscoe",
           "216",
           "5550",
           "male",
           2007
          ],
          [
           "Gentoo",
           "Biscoe",
           "214",
           "4650",
           "female",
           2007
          ],
          [
           "Gentoo",
           "Biscoe",
           "213",
           "5850",
           "male",
           2007
          ],
          [
           "Gentoo",
           "Biscoe",
           "210",
           "4200",
           "female",
           2007
          ],
          [
           "Gentoo",
           "Biscoe",
           "217",
           "5850",
           "male",
           2007
          ],
          [
           "Gentoo",
           "Biscoe",
           "210",
           "4150",
           "female",
           2007
          ],
          [
           "Gentoo",
           "Biscoe",
           "221",
           "6300",
           "male",
           2007
          ],
          [
           "Gentoo",
           "Biscoe",
           "209",
           "4800",
           "female",
           2007
          ],
          [
           "Gentoo",
           "Biscoe",
           "222",
           "5350",
           "male",
           2007
          ],
          [
           "Gentoo",
           "Biscoe",
           "218",
           "5700",
           "male",
           2007
          ],
          [
           "Gentoo",
           "Biscoe",
           "215",
           "5000",
           "female",
           2007
          ],
          [
           "Gentoo",
           "Biscoe",
           "213",
           "4400",
           "female",
           2007
          ],
          [
           "Gentoo",
           "Biscoe",
           "215",
           "5050",
           "male",
           2007
          ],
          [
           "Gentoo",
           "Biscoe",
           "215",
           "5000",
           "female",
           2007
          ],
          [
           "Gentoo",
           "Biscoe",
           "215",
           "5100",
           "male",
           2007
          ],
          [
           "Gentoo",
           "Biscoe",
           "216",
           "4100",
           "NA",
           2007
          ],
          [
           "Gentoo",
           "Biscoe",
           "215",
           "5650",
           "male",
           2007
          ],
          [
           "Gentoo",
           "Biscoe",
           "210",
           "4600",
           "female",
           2007
          ],
          [
           "Gentoo",
           "Biscoe",
           "220",
           "5550",
           "male",
           2007
          ],
          [
           "Gentoo",
           "Biscoe",
           "222",
           "5250",
           "male",
           2007
          ],
          [
           "Gentoo",
           "Biscoe",
           "209",
           "4700",
           "female",
           2007
          ],
          [
           "Gentoo",
           "Biscoe",
           "207",
           "5050",
           "female",
           2007
          ],
          [
           "Gentoo",
           "Biscoe",
           "230",
           "6050",
           "male",
           2007
          ],
          [
           "Gentoo",
           "Biscoe",
           "220",
           "5150",
           "female",
           2008
          ],
          [
           "Gentoo",
           "Biscoe",
           "220",
           "5400",
           "male",
           2008
          ],
          [
           "Gentoo",
           "Biscoe",
           "213",
           "4950",
           "female",
           2008
          ],
          [
           "Gentoo",
           "Biscoe",
           "219",
           "5250",
           "male",
           2008
          ],
          [
           "Gentoo",
           "Biscoe",
           "208",
           "4350",
           "female",
           2008
          ],
          [
           "Gentoo",
           "Biscoe",
           "208",
           "5350",
           "male",
           2008
          ],
          [
           "Gentoo",
           "Biscoe",
           "208",
           "3950",
           "female",
           2008
          ],
          [
           "Gentoo",
           "Biscoe",
           "225",
           "5700",
           "male",
           2008
          ],
          [
           "Gentoo",
           "Biscoe",
           "210",
           "4300",
           "female",
           2008
          ],
          [
           "Gentoo",
           "Biscoe",
           "216",
           "4750",
           "male",
           2008
          ],
          [
           "Gentoo",
           "Biscoe",
           "222",
           "5550",
           "male",
           2008
          ],
          [
           "Gentoo",
           "Biscoe",
           "217",
           "4900",
           "female",
           2008
          ],
          [
           "Gentoo",
           "Biscoe",
           "210",
           "4200",
           "female",
           2008
          ],
          [
           "Gentoo",
           "Biscoe",
           "225",
           "5400",
           "male",
           2008
          ],
          [
           "Gentoo",
           "Biscoe",
           "213",
           "5100",
           "female",
           2008
          ],
          [
           "Gentoo",
           "Biscoe",
           "215",
           "5300",
           "male",
           2008
          ],
          [
           "Gentoo",
           "Biscoe",
           "210",
           "4850",
           "female",
           2008
          ],
          [
           "Gentoo",
           "Biscoe",
           "220",
           "5300",
           "male",
           2008
          ],
          [
           "Gentoo",
           "Biscoe",
           "210",
           "4400",
           "female",
           2008
          ],
          [
           "Gentoo",
           "Biscoe",
           "225",
           "5000",
           "male",
           2008
          ],
          [
           "Gentoo",
           "Biscoe",
           "217",
           "4900",
           "female",
           2008
          ],
          [
           "Gentoo",
           "Biscoe",
           "220",
           "5050",
           "male",
           2008
          ],
          [
           "Gentoo",
           "Biscoe",
           "208",
           "4300",
           "female",
           2008
          ],
          [
           "Gentoo",
           "Biscoe",
           "220",
           "5000",
           "male",
           2008
          ],
          [
           "Gentoo",
           "Biscoe",
           "208",
           "4450",
           "female",
           2008
          ],
          [
           "Gentoo",
           "Biscoe",
           "224",
           "5550",
           "male",
           2008
          ],
          [
           "Gentoo",
           "Biscoe",
           "208",
           "4200",
           "female",
           2008
          ],
          [
           "Gentoo",
           "Biscoe",
           "221",
           "5300",
           "male",
           2008
          ],
          [
           "Gentoo",
           "Biscoe",
           "214",
           "4400",
           "female",
           2008
          ],
          [
           "Gentoo",
           "Biscoe",
           "231",
           "5650",
           "male",
           2008
          ],
          [
           "Gentoo",
           "Biscoe",
           "219",
           "4700",
           "female",
           2008
          ],
          [
           "Gentoo",
           "Biscoe",
           "230",
           "5700",
           "male",
           2008
          ],
          [
           "Gentoo",
           "Biscoe",
           "214",
           "4650",
           "NA",
           2008
          ],
          [
           "Gentoo",
           "Biscoe",
           "229",
           "5800",
           "male",
           2008
          ],
          [
           "Gentoo",
           "Biscoe",
           "220",
           "4700",
           "female",
           2008
          ],
          [
           "Gentoo",
           "Biscoe",
           "223",
           "5550",
           "male",
           2008
          ],
          [
           "Gentoo",
           "Biscoe",
           "216",
           "4750",
           "female",
           2008
          ],
          [
           "Gentoo",
           "Biscoe",
           "221",
           "5000",
           "male",
           2008
          ],
          [
           "Gentoo",
           "Biscoe",
           "221",
           "5100",
           "male",
           2008
          ],
          [
           "Gentoo",
           "Biscoe",
           "217",
           "5200",
           "female",
           2008
          ],
          [
           "Gentoo",
           "Biscoe",
           "216",
           "4700",
           "female",
           2008
          ],
          [
           "Gentoo",
           "Biscoe",
           "230",
           "5800",
           "male",
           2008
          ],
          [
           "Gentoo",
           "Biscoe",
           "209",
           "4600",
           "female",
           2008
          ],
          [
           "Gentoo",
           "Biscoe",
           "220",
           "6000",
           "male",
           2008
          ],
          [
           "Gentoo",
           "Biscoe",
           "215",
           "4750",
           "female",
           2008
          ],
          [
           "Gentoo",
           "Biscoe",
           "223",
           "5950",
           "male",
           2008
          ],
          [
           "Gentoo",
           "Biscoe",
           "212",
           "4625",
           "female",
           2009
          ],
          [
           "Gentoo",
           "Biscoe",
           "221",
           "5450",
           "male",
           2009
          ],
          [
           "Gentoo",
           "Biscoe",
           "212",
           "4725",
           "female",
           2009
          ],
          [
           "Gentoo",
           "Biscoe",
           "224",
           "5350",
           "male",
           2009
          ],
          [
           "Gentoo",
           "Biscoe",
           "212",
           "4750",
           "female",
           2009
          ],
          [
           "Gentoo",
           "Biscoe",
           "228",
           "5600",
           "male",
           2009
          ],
          [
           "Gentoo",
           "Biscoe",
           "218",
           "4600",
           "female",
           2009
          ],
          [
           "Gentoo",
           "Biscoe",
           "218",
           "5300",
           "male",
           2009
          ],
          [
           "Gentoo",
           "Biscoe",
           "212",
           "4875",
           "female",
           2009
          ],
          [
           "Gentoo",
           "Biscoe",
           "230",
           "5550",
           "male",
           2009
          ],
          [
           "Gentoo",
           "Biscoe",
           "218",
           "4950",
           "female",
           2009
          ],
          [
           "Gentoo",
           "Biscoe",
           "228",
           "5400",
           "male",
           2009
          ],
          [
           "Gentoo",
           "Biscoe",
           "212",
           "4750",
           "female",
           2009
          ],
          [
           "Gentoo",
           "Biscoe",
           "224",
           "5650",
           "male",
           2009
          ],
          [
           "Gentoo",
           "Biscoe",
           "214",
           "4850",
           "female",
           2009
          ],
          [
           "Gentoo",
           "Biscoe",
           "226",
           "5200",
           "male",
           2009
          ],
          [
           "Gentoo",
           "Biscoe",
           "216",
           "4925",
           "male",
           2009
          ],
          [
           "Gentoo",
           "Biscoe",
           "222",
           "4875",
           "female",
           2009
          ],
          [
           "Gentoo",
           "Biscoe",
           "203",
           "4625",
           "female",
           2009
          ],
          [
           "Gentoo",
           "Biscoe",
           "225",
           "5250",
           "male",
           2009
          ],
          [
           "Gentoo",
           "Biscoe",
           "219",
           "4850",
           "female",
           2009
          ],
          [
           "Gentoo",
           "Biscoe",
           "228",
           "5600",
           "male",
           2009
          ],
          [
           "Gentoo",
           "Biscoe",
           "215",
           "4975",
           "female",
           2009
          ],
          [
           "Gentoo",
           "Biscoe",
           "228",
           "5500",
           "male",
           2009
          ],
          [
           "Gentoo",
           "Biscoe",
           "216",
           "4725",
           "NA",
           2009
          ],
          [
           "Gentoo",
           "Biscoe",
           "215",
           "5500",
           "male",
           2009
          ],
          [
           "Gentoo",
           "Biscoe",
           "210",
           "4700",
           "female",
           2009
          ],
          [
           "Gentoo",
           "Biscoe",
           "219",
           "5500",
           "male",
           2009
          ],
          [
           "Gentoo",
           "Biscoe",
           "208",
           "4575",
           "female",
           2009
          ],
          [
           "Gentoo",
           "Biscoe",
           "209",
           "5500",
           "male",
           2009
          ],
          [
           "Gentoo",
           "Biscoe",
           "216",
           "5000",
           "female",
           2009
          ],
          [
           "Gentoo",
           "Biscoe",
           "229",
           "5950",
           "male",
           2009
          ],
          [
           "Gentoo",
           "Biscoe",
           "213",
           "4650",
           "female",
           2009
          ],
          [
           "Gentoo",
           "Biscoe",
           "230",
           "5500",
           "male",
           2009
          ],
          [
           "Gentoo",
           "Biscoe",
           "217",
           "4375",
           "female",
           2009
          ],
          [
           "Gentoo",
           "Biscoe",
           "230",
           "5850",
           "male",
           2009
          ],
          [
           "Gentoo",
           "Biscoe",
           "217",
           "4875",
           "NA",
           2009
          ],
          [
           "Gentoo",
           "Biscoe",
           "222",
           "6000",
           "male",
           2009
          ],
          [
           "Gentoo",
           "Biscoe",
           "214",
           "4925",
           "female",
           2009
          ],
          [
           "Gentoo",
           "Biscoe",
           "NA",
           "NA",
           "NA",
           2009
          ],
          [
           "Gentoo",
           "Biscoe",
           "215",
           "4850",
           "female",
           2009
          ],
          [
           "Gentoo",
           "Biscoe",
           "222",
           "5750",
           "male",
           2009
          ],
          [
           "Gentoo",
           "Biscoe",
           "212",
           "5200",
           "female",
           2009
          ],
          [
           "Gentoo",
           "Biscoe",
           "213",
           "5400",
           "male",
           2009
          ]
         ],
         "hovertemplate": "species=%{customdata[0]}<br>bill_length_mm=%{x}<br>bill_depth_mm=%{y}<br>island=%{customdata[1]}<br>flipper_length_mm=%{customdata[2]}<br>body_mass_g=%{customdata[3]}<br>sex=%{customdata[4]}<br>year=%{customdata[5]}<extra></extra>",
         "legendgroup": "Gentoo",
         "marker": {
          "color": "#EF553B",
          "symbol": "circle"
         },
         "mode": "markers",
         "name": "Gentoo",
         "orientation": "v",
         "showlegend": true,
         "type": "scatter",
         "x": [
          "46.1",
          "50",
          "48.7",
          "50",
          "47.6",
          "46.5",
          "45.4",
          "46.7",
          "43.3",
          "46.8",
          "40.9",
          "49",
          "45.5",
          "48.4",
          "45.8",
          "49.3",
          "42",
          "49.2",
          "46.2",
          "48.7",
          "50.2",
          "45.1",
          "46.5",
          "46.3",
          "42.9",
          "46.1",
          "44.5",
          "47.8",
          "48.2",
          "50",
          "47.3",
          "42.8",
          "45.1",
          "59.6",
          "49.1",
          "48.4",
          "42.6",
          "44.4",
          "44",
          "48.7",
          "42.7",
          "49.6",
          "45.3",
          "49.6",
          "50.5",
          "43.6",
          "45.5",
          "50.5",
          "44.9",
          "45.2",
          "46.6",
          "48.5",
          "45.1",
          "50.1",
          "46.5",
          "45",
          "43.8",
          "45.5",
          "43.2",
          "50.4",
          "45.3",
          "46.2",
          "45.7",
          "54.3",
          "45.8",
          "49.8",
          "46.2",
          "49.5",
          "43.5",
          "50.7",
          "47.7",
          "46.4",
          "48.2",
          "46.5",
          "46.4",
          "48.6",
          "47.5",
          "51.1",
          "45.2",
          "45.2",
          "49.1",
          "52.5",
          "47.4",
          "50",
          "44.9",
          "50.8",
          "43.4",
          "51.3",
          "47.5",
          "52.1",
          "47.5",
          "52.2",
          "45.5",
          "49.5",
          "44.5",
          "50.8",
          "49.4",
          "46.9",
          "48.4",
          "51.1",
          "48.5",
          "55.9",
          "47.2",
          "49.1",
          "47.3",
          "46.8",
          "41.7",
          "53.4",
          "43.3",
          "48.1",
          "50.5",
          "49.8",
          "43.5",
          "51.5",
          "46.2",
          "55.1",
          "44.5",
          "48.8",
          "47.2",
          "NA",
          "46.8",
          "50.4",
          "45.2",
          "49.9"
         ],
         "xaxis": "x",
         "y": [
          "13.2",
          "16.3",
          "14.1",
          "15.2",
          "14.5",
          "13.5",
          "14.6",
          "15.3",
          "13.4",
          "15.4",
          "13.7",
          "16.1",
          "13.7",
          "14.6",
          "14.6",
          "15.7",
          "13.5",
          "15.2",
          "14.5",
          "15.1",
          "14.3",
          "14.5",
          "14.5",
          "15.8",
          "13.1",
          "15.1",
          "14.3",
          "15",
          "14.3",
          "15.3",
          "15.3",
          "14.2",
          "14.5",
          "17",
          "14.8",
          "16.3",
          "13.7",
          "17.3",
          "13.6",
          "15.7",
          "13.7",
          "16",
          "13.7",
          "15",
          "15.9",
          "13.9",
          "13.9",
          "15.9",
          "13.3",
          "15.8",
          "14.2",
          "14.1",
          "14.4",
          "15",
          "14.4",
          "15.4",
          "13.9",
          "15",
          "14.5",
          "15.3",
          "13.8",
          "14.9",
          "13.9",
          "15.7",
          "14.2",
          "16.8",
          "14.4",
          "16.2",
          "14.2",
          "15",
          "15",
          "15.6",
          "15.6",
          "14.8",
          "15",
          "16",
          "14.2",
          "16.3",
          "13.8",
          "16.4",
          "14.5",
          "15.6",
          "14.6",
          "15.9",
          "13.8",
          "17.3",
          "14.4",
          "14.2",
          "14",
          "17",
          "15",
          "17.1",
          "14.5",
          "16.1",
          "14.7",
          "15.7",
          "15.8",
          "14.6",
          "14.4",
          "16.5",
          "15",
          "17",
          "15.5",
          "15",
          "13.8",
          "16.1",
          "14.7",
          "15.8",
          "14",
          "15.1",
          "15.2",
          "15.9",
          "15.2",
          "16.3",
          "14.1",
          "16",
          "15.7",
          "16.2",
          "13.7",
          "NA",
          "14.3",
          "15.7",
          "14.8",
          "16.1"
         ],
         "yaxis": "y"
        },
        {
         "customdata": [
          [
           "Chinstrap",
           "Dream",
           "192",
           "3500",
           "female",
           2007
          ],
          [
           "Chinstrap",
           "Dream",
           "196",
           "3900",
           "male",
           2007
          ],
          [
           "Chinstrap",
           "Dream",
           "193",
           "3650",
           "male",
           2007
          ],
          [
           "Chinstrap",
           "Dream",
           "188",
           "3525",
           "female",
           2007
          ],
          [
           "Chinstrap",
           "Dream",
           "197",
           "3725",
           "male",
           2007
          ],
          [
           "Chinstrap",
           "Dream",
           "198",
           "3950",
           "female",
           2007
          ],
          [
           "Chinstrap",
           "Dream",
           "178",
           "3250",
           "female",
           2007
          ],
          [
           "Chinstrap",
           "Dream",
           "197",
           "3750",
           "male",
           2007
          ],
          [
           "Chinstrap",
           "Dream",
           "195",
           "4150",
           "female",
           2007
          ],
          [
           "Chinstrap",
           "Dream",
           "198",
           "3700",
           "male",
           2007
          ],
          [
           "Chinstrap",
           "Dream",
           "193",
           "3800",
           "female",
           2007
          ],
          [
           "Chinstrap",
           "Dream",
           "194",
           "3775",
           "male",
           2007
          ],
          [
           "Chinstrap",
           "Dream",
           "185",
           "3700",
           "female",
           2007
          ],
          [
           "Chinstrap",
           "Dream",
           "201",
           "4050",
           "male",
           2007
          ],
          [
           "Chinstrap",
           "Dream",
           "190",
           "3575",
           "female",
           2007
          ],
          [
           "Chinstrap",
           "Dream",
           "201",
           "4050",
           "male",
           2007
          ],
          [
           "Chinstrap",
           "Dream",
           "197",
           "3300",
           "male",
           2007
          ],
          [
           "Chinstrap",
           "Dream",
           "181",
           "3700",
           "female",
           2007
          ],
          [
           "Chinstrap",
           "Dream",
           "190",
           "3450",
           "female",
           2007
          ],
          [
           "Chinstrap",
           "Dream",
           "195",
           "4400",
           "male",
           2007
          ],
          [
           "Chinstrap",
           "Dream",
           "181",
           "3600",
           "female",
           2007
          ],
          [
           "Chinstrap",
           "Dream",
           "191",
           "3400",
           "male",
           2007
          ],
          [
           "Chinstrap",
           "Dream",
           "187",
           "2900",
           "female",
           2007
          ],
          [
           "Chinstrap",
           "Dream",
           "193",
           "3800",
           "male",
           2007
          ],
          [
           "Chinstrap",
           "Dream",
           "195",
           "3300",
           "female",
           2007
          ],
          [
           "Chinstrap",
           "Dream",
           "197",
           "4150",
           "male",
           2007
          ],
          [
           "Chinstrap",
           "Dream",
           "200",
           "3400",
           "female",
           2008
          ],
          [
           "Chinstrap",
           "Dream",
           "200",
           "3800",
           "male",
           2008
          ],
          [
           "Chinstrap",
           "Dream",
           "191",
           "3700",
           "female",
           2008
          ],
          [
           "Chinstrap",
           "Dream",
           "205",
           "4550",
           "male",
           2008
          ],
          [
           "Chinstrap",
           "Dream",
           "187",
           "3200",
           "female",
           2008
          ],
          [
           "Chinstrap",
           "Dream",
           "201",
           "4300",
           "male",
           2008
          ],
          [
           "Chinstrap",
           "Dream",
           "187",
           "3350",
           "female",
           2008
          ],
          [
           "Chinstrap",
           "Dream",
           "203",
           "4100",
           "male",
           2008
          ],
          [
           "Chinstrap",
           "Dream",
           "195",
           "3600",
           "male",
           2008
          ],
          [
           "Chinstrap",
           "Dream",
           "199",
           "3900",
           "female",
           2008
          ],
          [
           "Chinstrap",
           "Dream",
           "195",
           "3850",
           "female",
           2008
          ],
          [
           "Chinstrap",
           "Dream",
           "210",
           "4800",
           "male",
           2008
          ],
          [
           "Chinstrap",
           "Dream",
           "192",
           "2700",
           "female",
           2008
          ],
          [
           "Chinstrap",
           "Dream",
           "205",
           "4500",
           "male",
           2008
          ],
          [
           "Chinstrap",
           "Dream",
           "210",
           "3950",
           "male",
           2008
          ],
          [
           "Chinstrap",
           "Dream",
           "187",
           "3650",
           "female",
           2008
          ],
          [
           "Chinstrap",
           "Dream",
           "196",
           "3550",
           "male",
           2008
          ],
          [
           "Chinstrap",
           "Dream",
           "196",
           "3500",
           "female",
           2008
          ],
          [
           "Chinstrap",
           "Dream",
           "196",
           "3675",
           "female",
           2009
          ],
          [
           "Chinstrap",
           "Dream",
           "201",
           "4450",
           "male",
           2009
          ],
          [
           "Chinstrap",
           "Dream",
           "190",
           "3400",
           "female",
           2009
          ],
          [
           "Chinstrap",
           "Dream",
           "212",
           "4300",
           "male",
           2009
          ],
          [
           "Chinstrap",
           "Dream",
           "187",
           "3250",
           "male",
           2009
          ],
          [
           "Chinstrap",
           "Dream",
           "198",
           "3675",
           "female",
           2009
          ],
          [
           "Chinstrap",
           "Dream",
           "199",
           "3325",
           "female",
           2009
          ],
          [
           "Chinstrap",
           "Dream",
           "201",
           "3950",
           "male",
           2009
          ],
          [
           "Chinstrap",
           "Dream",
           "193",
           "3600",
           "female",
           2009
          ],
          [
           "Chinstrap",
           "Dream",
           "203",
           "4050",
           "male",
           2009
          ],
          [
           "Chinstrap",
           "Dream",
           "187",
           "3350",
           "female",
           2009
          ],
          [
           "Chinstrap",
           "Dream",
           "197",
           "3450",
           "male",
           2009
          ],
          [
           "Chinstrap",
           "Dream",
           "191",
           "3250",
           "female",
           2009
          ],
          [
           "Chinstrap",
           "Dream",
           "203",
           "4050",
           "male",
           2009
          ],
          [
           "Chinstrap",
           "Dream",
           "202",
           "3800",
           "male",
           2009
          ],
          [
           "Chinstrap",
           "Dream",
           "194",
           "3525",
           "female",
           2009
          ],
          [
           "Chinstrap",
           "Dream",
           "206",
           "3950",
           "male",
           2009
          ],
          [
           "Chinstrap",
           "Dream",
           "189",
           "3650",
           "female",
           2009
          ],
          [
           "Chinstrap",
           "Dream",
           "195",
           "3650",
           "female",
           2009
          ],
          [
           "Chinstrap",
           "Dream",
           "207",
           "4000",
           "male",
           2009
          ],
          [
           "Chinstrap",
           "Dream",
           "202",
           "3400",
           "female",
           2009
          ],
          [
           "Chinstrap",
           "Dream",
           "193",
           "3775",
           "male",
           2009
          ],
          [
           "Chinstrap",
           "Dream",
           "210",
           "4100",
           "male",
           2009
          ],
          [
           "Chinstrap",
           "Dream",
           "198",
           "3775",
           "female",
           2009
          ]
         ],
         "hovertemplate": "species=%{customdata[0]}<br>bill_length_mm=%{x}<br>bill_depth_mm=%{y}<br>island=%{customdata[1]}<br>flipper_length_mm=%{customdata[2]}<br>body_mass_g=%{customdata[3]}<br>sex=%{customdata[4]}<br>year=%{customdata[5]}<extra></extra>",
         "legendgroup": "Chinstrap",
         "marker": {
          "color": "#00cc96",
          "symbol": "circle"
         },
         "mode": "markers",
         "name": "Chinstrap",
         "orientation": "v",
         "showlegend": true,
         "type": "scatter",
         "x": [
          "46.5",
          "50",
          "51.3",
          "45.4",
          "52.7",
          "45.2",
          "46.1",
          "51.3",
          "46",
          "51.3",
          "46.6",
          "51.7",
          "47",
          "52",
          "45.9",
          "50.5",
          "50.3",
          "58",
          "46.4",
          "49.2",
          "42.4",
          "48.5",
          "43.2",
          "50.6",
          "46.7",
          "52",
          "50.5",
          "49.5",
          "46.4",
          "52.8",
          "40.9",
          "54.2",
          "42.5",
          "51",
          "49.7",
          "47.5",
          "47.6",
          "52",
          "46.9",
          "53.5",
          "49",
          "46.2",
          "50.9",
          "45.5",
          "50.9",
          "50.8",
          "50.1",
          "49",
          "51.5",
          "49.8",
          "48.1",
          "51.4",
          "45.7",
          "50.7",
          "42.5",
          "52.2",
          "45.2",
          "49.3",
          "50.2",
          "45.6",
          "51.9",
          "46.8",
          "45.7",
          "55.8",
          "43.5",
          "49.6",
          "50.8",
          "50.2"
         ],
         "xaxis": "x",
         "y": [
          "17.9",
          "19.5",
          "19.2",
          "18.7",
          "19.8",
          "17.8",
          "18.2",
          "18.2",
          "18.9",
          "19.9",
          "17.8",
          "20.3",
          "17.3",
          "18.1",
          "17.1",
          "19.6",
          "20",
          "17.8",
          "18.6",
          "18.2",
          "17.3",
          "17.5",
          "16.6",
          "19.4",
          "17.9",
          "19",
          "18.4",
          "19",
          "17.8",
          "20",
          "16.6",
          "20.8",
          "16.7",
          "18.8",
          "18.6",
          "16.8",
          "18.3",
          "20.7",
          "16.6",
          "19.9",
          "19.5",
          "17.5",
          "19.1",
          "17",
          "17.9",
          "18.5",
          "17.9",
          "19.6",
          "18.7",
          "17.3",
          "16.4",
          "19",
          "17.3",
          "19.7",
          "17.3",
          "18.8",
          "16.6",
          "19.9",
          "18.8",
          "19.4",
          "19.5",
          "16.5",
          "17",
          "19.8",
          "18.1",
          "18.2",
          "19",
          "18.7"
         ],
         "yaxis": "y"
        }
       ],
       "layout": {
        "legend": {
         "title": {
          "text": "species"
         },
         "tracegroupgap": 0
        },
        "margin": {
         "t": 60
        },
        "template": {
         "data": {
          "bar": [
           {
            "error_x": {
             "color": "#2a3f5f"
            },
            "error_y": {
             "color": "#2a3f5f"
            },
            "marker": {
             "line": {
              "color": "#E5ECF6",
              "width": 0.5
             },
             "pattern": {
              "fillmode": "overlay",
              "size": 10,
              "solidity": 0.2
             }
            },
            "type": "bar"
           }
          ],
          "barpolar": [
           {
            "marker": {
             "line": {
              "color": "#E5ECF6",
              "width": 0.5
             },
             "pattern": {
              "fillmode": "overlay",
              "size": 10,
              "solidity": 0.2
             }
            },
            "type": "barpolar"
           }
          ],
          "carpet": [
           {
            "aaxis": {
             "endlinecolor": "#2a3f5f",
             "gridcolor": "white",
             "linecolor": "white",
             "minorgridcolor": "white",
             "startlinecolor": "#2a3f5f"
            },
            "baxis": {
             "endlinecolor": "#2a3f5f",
             "gridcolor": "white",
             "linecolor": "white",
             "minorgridcolor": "white",
             "startlinecolor": "#2a3f5f"
            },
            "type": "carpet"
           }
          ],
          "choropleth": [
           {
            "colorbar": {
             "outlinewidth": 0,
             "ticks": ""
            },
            "type": "choropleth"
           }
          ],
          "contour": [
           {
            "colorbar": {
             "outlinewidth": 0,
             "ticks": ""
            },
            "colorscale": [
             [
              0,
              "#0d0887"
             ],
             [
              0.1111111111111111,
              "#46039f"
             ],
             [
              0.2222222222222222,
              "#7201a8"
             ],
             [
              0.3333333333333333,
              "#9c179e"
             ],
             [
              0.4444444444444444,
              "#bd3786"
             ],
             [
              0.5555555555555556,
              "#d8576b"
             ],
             [
              0.6666666666666666,
              "#ed7953"
             ],
             [
              0.7777777777777778,
              "#fb9f3a"
             ],
             [
              0.8888888888888888,
              "#fdca26"
             ],
             [
              1,
              "#f0f921"
             ]
            ],
            "type": "contour"
           }
          ],
          "contourcarpet": [
           {
            "colorbar": {
             "outlinewidth": 0,
             "ticks": ""
            },
            "type": "contourcarpet"
           }
          ],
          "heatmap": [
           {
            "colorbar": {
             "outlinewidth": 0,
             "ticks": ""
            },
            "colorscale": [
             [
              0,
              "#0d0887"
             ],
             [
              0.1111111111111111,
              "#46039f"
             ],
             [
              0.2222222222222222,
              "#7201a8"
             ],
             [
              0.3333333333333333,
              "#9c179e"
             ],
             [
              0.4444444444444444,
              "#bd3786"
             ],
             [
              0.5555555555555556,
              "#d8576b"
             ],
             [
              0.6666666666666666,
              "#ed7953"
             ],
             [
              0.7777777777777778,
              "#fb9f3a"
             ],
             [
              0.8888888888888888,
              "#fdca26"
             ],
             [
              1,
              "#f0f921"
             ]
            ],
            "type": "heatmap"
           }
          ],
          "histogram": [
           {
            "marker": {
             "pattern": {
              "fillmode": "overlay",
              "size": 10,
              "solidity": 0.2
             }
            },
            "type": "histogram"
           }
          ],
          "histogram2d": [
           {
            "colorbar": {
             "outlinewidth": 0,
             "ticks": ""
            },
            "colorscale": [
             [
              0,
              "#0d0887"
             ],
             [
              0.1111111111111111,
              "#46039f"
             ],
             [
              0.2222222222222222,
              "#7201a8"
             ],
             [
              0.3333333333333333,
              "#9c179e"
             ],
             [
              0.4444444444444444,
              "#bd3786"
             ],
             [
              0.5555555555555556,
              "#d8576b"
             ],
             [
              0.6666666666666666,
              "#ed7953"
             ],
             [
              0.7777777777777778,
              "#fb9f3a"
             ],
             [
              0.8888888888888888,
              "#fdca26"
             ],
             [
              1,
              "#f0f921"
             ]
            ],
            "type": "histogram2d"
           }
          ],
          "histogram2dcontour": [
           {
            "colorbar": {
             "outlinewidth": 0,
             "ticks": ""
            },
            "colorscale": [
             [
              0,
              "#0d0887"
             ],
             [
              0.1111111111111111,
              "#46039f"
             ],
             [
              0.2222222222222222,
              "#7201a8"
             ],
             [
              0.3333333333333333,
              "#9c179e"
             ],
             [
              0.4444444444444444,
              "#bd3786"
             ],
             [
              0.5555555555555556,
              "#d8576b"
             ],
             [
              0.6666666666666666,
              "#ed7953"
             ],
             [
              0.7777777777777778,
              "#fb9f3a"
             ],
             [
              0.8888888888888888,
              "#fdca26"
             ],
             [
              1,
              "#f0f921"
             ]
            ],
            "type": "histogram2dcontour"
           }
          ],
          "mesh3d": [
           {
            "colorbar": {
             "outlinewidth": 0,
             "ticks": ""
            },
            "type": "mesh3d"
           }
          ],
          "parcoords": [
           {
            "line": {
             "colorbar": {
              "outlinewidth": 0,
              "ticks": ""
             }
            },
            "type": "parcoords"
           }
          ],
          "pie": [
           {
            "automargin": true,
            "type": "pie"
           }
          ],
          "scatter": [
           {
            "fillpattern": {
             "fillmode": "overlay",
             "size": 10,
             "solidity": 0.2
            },
            "type": "scatter"
           }
          ],
          "scatter3d": [
           {
            "line": {
             "colorbar": {
              "outlinewidth": 0,
              "ticks": ""
             }
            },
            "marker": {
             "colorbar": {
              "outlinewidth": 0,
              "ticks": ""
             }
            },
            "type": "scatter3d"
           }
          ],
          "scattercarpet": [
           {
            "marker": {
             "colorbar": {
              "outlinewidth": 0,
              "ticks": ""
             }
            },
            "type": "scattercarpet"
           }
          ],
          "scattergeo": [
           {
            "marker": {
             "colorbar": {
              "outlinewidth": 0,
              "ticks": ""
             }
            },
            "type": "scattergeo"
           }
          ],
          "scattergl": [
           {
            "marker": {
             "colorbar": {
              "outlinewidth": 0,
              "ticks": ""
             }
            },
            "type": "scattergl"
           }
          ],
          "scattermap": [
           {
            "marker": {
             "colorbar": {
              "outlinewidth": 0,
              "ticks": ""
             }
            },
            "type": "scattermap"
           }
          ],
          "scattermapbox": [
           {
            "marker": {
             "colorbar": {
              "outlinewidth": 0,
              "ticks": ""
             }
            },
            "type": "scattermapbox"
           }
          ],
          "scatterpolar": [
           {
            "marker": {
             "colorbar": {
              "outlinewidth": 0,
              "ticks": ""
             }
            },
            "type": "scatterpolar"
           }
          ],
          "scatterpolargl": [
           {
            "marker": {
             "colorbar": {
              "outlinewidth": 0,
              "ticks": ""
             }
            },
            "type": "scatterpolargl"
           }
          ],
          "scatterternary": [
           {
            "marker": {
             "colorbar": {
              "outlinewidth": 0,
              "ticks": ""
             }
            },
            "type": "scatterternary"
           }
          ],
          "surface": [
           {
            "colorbar": {
             "outlinewidth": 0,
             "ticks": ""
            },
            "colorscale": [
             [
              0,
              "#0d0887"
             ],
             [
              0.1111111111111111,
              "#46039f"
             ],
             [
              0.2222222222222222,
              "#7201a8"
             ],
             [
              0.3333333333333333,
              "#9c179e"
             ],
             [
              0.4444444444444444,
              "#bd3786"
             ],
             [
              0.5555555555555556,
              "#d8576b"
             ],
             [
              0.6666666666666666,
              "#ed7953"
             ],
             [
              0.7777777777777778,
              "#fb9f3a"
             ],
             [
              0.8888888888888888,
              "#fdca26"
             ],
             [
              1,
              "#f0f921"
             ]
            ],
            "type": "surface"
           }
          ],
          "table": [
           {
            "cells": {
             "fill": {
              "color": "#EBF0F8"
             },
             "line": {
              "color": "white"
             }
            },
            "header": {
             "fill": {
              "color": "#C8D4E3"
             },
             "line": {
              "color": "white"
             }
            },
            "type": "table"
           }
          ]
         },
         "layout": {
          "annotationdefaults": {
           "arrowcolor": "#2a3f5f",
           "arrowhead": 0,
           "arrowwidth": 1
          },
          "autotypenumbers": "strict",
          "coloraxis": {
           "colorbar": {
            "outlinewidth": 0,
            "ticks": ""
           }
          },
          "colorscale": {
           "diverging": [
            [
             0,
             "#8e0152"
            ],
            [
             0.1,
             "#c51b7d"
            ],
            [
             0.2,
             "#de77ae"
            ],
            [
             0.3,
             "#f1b6da"
            ],
            [
             0.4,
             "#fde0ef"
            ],
            [
             0.5,
             "#f7f7f7"
            ],
            [
             0.6,
             "#e6f5d0"
            ],
            [
             0.7,
             "#b8e186"
            ],
            [
             0.8,
             "#7fbc41"
            ],
            [
             0.9,
             "#4d9221"
            ],
            [
             1,
             "#276419"
            ]
           ],
           "sequential": [
            [
             0,
             "#0d0887"
            ],
            [
             0.1111111111111111,
             "#46039f"
            ],
            [
             0.2222222222222222,
             "#7201a8"
            ],
            [
             0.3333333333333333,
             "#9c179e"
            ],
            [
             0.4444444444444444,
             "#bd3786"
            ],
            [
             0.5555555555555556,
             "#d8576b"
            ],
            [
             0.6666666666666666,
             "#ed7953"
            ],
            [
             0.7777777777777778,
             "#fb9f3a"
            ],
            [
             0.8888888888888888,
             "#fdca26"
            ],
            [
             1,
             "#f0f921"
            ]
           ],
           "sequentialminus": [
            [
             0,
             "#0d0887"
            ],
            [
             0.1111111111111111,
             "#46039f"
            ],
            [
             0.2222222222222222,
             "#7201a8"
            ],
            [
             0.3333333333333333,
             "#9c179e"
            ],
            [
             0.4444444444444444,
             "#bd3786"
            ],
            [
             0.5555555555555556,
             "#d8576b"
            ],
            [
             0.6666666666666666,
             "#ed7953"
            ],
            [
             0.7777777777777778,
             "#fb9f3a"
            ],
            [
             0.8888888888888888,
             "#fdca26"
            ],
            [
             1,
             "#f0f921"
            ]
           ]
          },
          "colorway": [
           "#636efa",
           "#EF553B",
           "#00cc96",
           "#ab63fa",
           "#FFA15A",
           "#19d3f3",
           "#FF6692",
           "#B6E880",
           "#FF97FF",
           "#FECB52"
          ],
          "font": {
           "color": "#2a3f5f"
          },
          "geo": {
           "bgcolor": "white",
           "lakecolor": "white",
           "landcolor": "#E5ECF6",
           "showlakes": true,
           "showland": true,
           "subunitcolor": "white"
          },
          "hoverlabel": {
           "align": "left"
          },
          "hovermode": "closest",
          "mapbox": {
           "style": "light"
          },
          "paper_bgcolor": "white",
          "plot_bgcolor": "#E5ECF6",
          "polar": {
           "angularaxis": {
            "gridcolor": "white",
            "linecolor": "white",
            "ticks": ""
           },
           "bgcolor": "#E5ECF6",
           "radialaxis": {
            "gridcolor": "white",
            "linecolor": "white",
            "ticks": ""
           }
          },
          "scene": {
           "xaxis": {
            "backgroundcolor": "#E5ECF6",
            "gridcolor": "white",
            "gridwidth": 2,
            "linecolor": "white",
            "showbackground": true,
            "ticks": "",
            "zerolinecolor": "white"
           },
           "yaxis": {
            "backgroundcolor": "#E5ECF6",
            "gridcolor": "white",
            "gridwidth": 2,
            "linecolor": "white",
            "showbackground": true,
            "ticks": "",
            "zerolinecolor": "white"
           },
           "zaxis": {
            "backgroundcolor": "#E5ECF6",
            "gridcolor": "white",
            "gridwidth": 2,
            "linecolor": "white",
            "showbackground": true,
            "ticks": "",
            "zerolinecolor": "white"
           }
          },
          "shapedefaults": {
           "line": {
            "color": "#2a3f5f"
           }
          },
          "ternary": {
           "aaxis": {
            "gridcolor": "white",
            "linecolor": "white",
            "ticks": ""
           },
           "baxis": {
            "gridcolor": "white",
            "linecolor": "white",
            "ticks": ""
           },
           "bgcolor": "#E5ECF6",
           "caxis": {
            "gridcolor": "white",
            "linecolor": "white",
            "ticks": ""
           }
          },
          "title": {
           "x": 0.05
          },
          "xaxis": {
           "automargin": true,
           "gridcolor": "white",
           "linecolor": "white",
           "ticks": "",
           "title": {
            "standoff": 15
           },
           "zerolinecolor": "white",
           "zerolinewidth": 2
          },
          "yaxis": {
           "automargin": true,
           "gridcolor": "white",
           "linecolor": "white",
           "ticks": "",
           "title": {
            "standoff": 15
           },
           "zerolinecolor": "white",
           "zerolinewidth": 2
          }
         }
        },
        "xaxis": {
         "anchor": "y",
         "domain": [
          0,
          1
         ],
         "title": {
          "text": "bill_length_mm"
         }
        },
        "yaxis": {
         "anchor": "x",
         "domain": [
          0,
          1
         ],
         "title": {
          "text": "bill_depth_mm"
         }
        }
       }
      }
     },
     "metadata": {},
     "output_type": "display_data"
    }
   ],
   "source": [
    "px.scatter(\n",
    "    penguins,\n",
    "    x=\"bill_length_mm\",\n",
    "    y=\"bill_depth_mm\",\n",
    "    color=\"species\",\n",
    "    hover_data=penguins.column_names,\n",
    ").show()"
   ]
  },
  {
   "cell_type": "markdown",
   "id": "d5b61683-baf2-4a08-882b-afaab0405511",
   "metadata": {},
   "source": [
    "Close the connection:"
   ]
  },
  {
   "cell_type": "code",
   "execution_count": 7,
   "id": "58df147f-c009-4976-8945-acdd1f120ff4",
   "metadata": {},
   "outputs": [],
   "source": [
    "con.close()"
   ]
  }
 ],
 "metadata": {
  "kernelspec": {
   "display_name": "Python 3 (ipykernel)",
   "language": "python",
   "name": "python3"
  },
  "language_info": {
   "codemirror_mode": {
    "name": "ipython",
    "version": 3
   },
   "file_extension": ".py",
   "mimetype": "text/x-python",
   "name": "python",
   "nbconvert_exporter": "python",
   "pygments_lexer": "ipython3",
   "version": "3.13.5"
  }
 },
 "nbformat": 4,
 "nbformat_minor": 5
}
