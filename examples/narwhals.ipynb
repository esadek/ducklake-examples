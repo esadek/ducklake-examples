{
 "cells": [
  {
   "cell_type": "markdown",
   "id": "553759fc-6cc9-47d8-9a1e-2188f9373569",
   "metadata": {},
   "source": [
    "# Narwhals DuckLake Example\n",
    "\n",
    "An example notebook showing how to use the [Narwhals](https://narwhals-dev.github.io/narwhals/) dataframe library with DuckLake."
   ]
  },
  {
   "cell_type": "markdown",
   "id": "27bd5553-6631-4397-80fa-f2bd982b96ee",
   "metadata": {},
   "source": [
    "Install Narwhals and DuckDB:"
   ]
  },
  {
   "cell_type": "code",
   "execution_count": null,
   "id": "85760253-2c5e-4d7b-a16c-1e5411700631",
   "metadata": {},
   "outputs": [],
   "source": [
    "!pip install \"narwhals[duckdb]\""
   ]
  },
  {
   "cell_type": "markdown",
   "id": "ed0c4c2e-7717-4639-8089-e49ecd4602a7",
   "metadata": {},
   "source": [
    "Import the `duckdb` and `narwhals` packages:"
   ]
  },
  {
   "cell_type": "code",
   "execution_count": 2,
   "id": "1f2ffae3-d40c-4b2d-ba06-d8739815ef81",
   "metadata": {},
   "outputs": [],
   "source": [
    "import duckdb\n",
    "import narwhals as nw"
   ]
  },
  {
   "cell_type": "markdown",
   "id": "1c53f453-8887-4543-b8a5-b2451089f7a1",
   "metadata": {},
   "source": [
    "Connect to DuckLake:"
   ]
  },
  {
   "cell_type": "code",
   "execution_count": 3,
   "id": "77ba5258-4229-444a-b57d-818715db5f0f",
   "metadata": {},
   "outputs": [],
   "source": [
    "con = duckdb.connect()\n",
    "con.install_extension(\"ducklake\")\n",
    "con.sql(\"ATTACH 'ducklake:metadata.ducklake' AS my_ducklake\")\n",
    "con.sql(\"USE my_ducklake\")"
   ]
  },
  {
   "cell_type": "markdown",
   "id": "45db2cc3-fb3a-4be1-81a5-81f81628661d",
   "metadata": {},
   "source": [
    "Create a table:"
   ]
  },
  {
   "cell_type": "code",
   "execution_count": 4,
   "id": "6ba11ede-938b-49e8-b581-fbc0025302dd",
   "metadata": {},
   "outputs": [],
   "source": [
    "con.sql(\"\"\"\n",
    "CREATE TABLE IF NOT EXISTS penguins AS\n",
    "    FROM 'http://blobs.duckdb.org/data/penguins.csv'\n",
    "\"\"\")"
   ]
  },
  {
   "cell_type": "markdown",
   "id": "21197b3e-0cbc-44e6-ad8c-73ce56483cfd",
   "metadata": {},
   "source": [
    "Create a Narwhals LazyFrame from the table:"
   ]
  },
  {
   "cell_type": "code",
   "execution_count": 5,
   "id": "be18f660-4876-4f03-a21f-0a2fc7ac165b",
   "metadata": {},
   "outputs": [],
   "source": [
    "df = nw.from_native(con.table(\"penguins\"))"
   ]
  },
  {
   "cell_type": "markdown",
   "id": "c627d64a-6d1c-4600-909a-5d1162c98d67",
   "metadata": {},
   "source": [
    "Preview the LazyFrame:"
   ]
  },
  {
   "cell_type": "code",
   "execution_count": 6,
   "id": "9430ebfc-8c7a-426a-951f-7684a137cca2",
   "metadata": {},
   "outputs": [
    {
     "data": {
      "text/plain": [
       "┌─────────┬───────────┬────────────────┬───────────────┬───────────────────┬─────────────┬─────────┬───────┐\n",
       "│ species │  island   │ bill_length_mm │ bill_depth_mm │ flipper_length_mm │ body_mass_g │   sex   │ year  │\n",
       "│ varchar │  varchar  │    varchar     │    varchar    │      varchar      │   varchar   │ varchar │ int64 │\n",
       "├─────────┼───────────┼────────────────┼───────────────┼───────────────────┼─────────────┼─────────┼───────┤\n",
       "│ Adelie  │ Torgersen │ 39.1           │ 18.7          │ 181               │ 3750        │ male    │  2007 │\n",
       "│ Adelie  │ Torgersen │ 39.5           │ 17.4          │ 186               │ 3800        │ female  │  2007 │\n",
       "│ Adelie  │ Torgersen │ 40.3           │ 18            │ 195               │ 3250        │ female  │  2007 │\n",
       "│ Adelie  │ Torgersen │ NA             │ NA            │ NA                │ NA          │ NA      │  2007 │\n",
       "│ Adelie  │ Torgersen │ 36.7           │ 19.3          │ 193               │ 3450        │ female  │  2007 │\n",
       "└─────────┴───────────┴────────────────┴───────────────┴───────────────────┴─────────────┴─────────┴───────┘"
      ]
     },
     "execution_count": 6,
     "metadata": {},
     "output_type": "execute_result"
    }
   ],
   "source": [
    "df.head().to_native()"
   ]
  },
  {
   "cell_type": "markdown",
   "id": "00e9a492-2795-40b9-ba84-c0d4bd5a203c",
   "metadata": {},
   "source": [
    "Get the count for each species:"
   ]
  },
  {
   "cell_type": "code",
   "execution_count": 7,
   "id": "f0679c0a-40e4-4b5a-856f-377785c4f537",
   "metadata": {},
   "outputs": [
    {
     "data": {
      "text/plain": [
       "┌───────────┬───────┐\n",
       "│  species  │ count │\n",
       "│  varchar  │ int64 │\n",
       "├───────────┼───────┤\n",
       "│ Adelie    │   152 │\n",
       "│ Chinstrap │    68 │\n",
       "│ Gentoo    │   124 │\n",
       "└───────────┴───────┘"
      ]
     },
     "execution_count": 7,
     "metadata": {},
     "output_type": "execute_result"
    }
   ],
   "source": [
    "df.group_by(nw.col(\"species\")).agg(count=nw.len()).to_native()"
   ]
  },
  {
   "cell_type": "markdown",
   "id": "7a431141-e680-4299-add5-26e49bbc76ac",
   "metadata": {},
   "source": [
    "Close the connection:"
   ]
  },
  {
   "cell_type": "code",
   "execution_count": 8,
   "id": "4c1cf906-73c7-4419-85a2-6a9063911ddb",
   "metadata": {},
   "outputs": [],
   "source": [
    "con.close()"
   ]
  }
 ],
 "metadata": {
  "kernelspec": {
   "display_name": "Python 3 (ipykernel)",
   "language": "python",
   "name": "python3"
  },
  "language_info": {
   "codemirror_mode": {
    "name": "ipython",
    "version": 3
   },
   "file_extension": ".py",
   "mimetype": "text/x-python",
   "name": "python",
   "nbconvert_exporter": "python",
   "pygments_lexer": "ipython3",
   "version": "3.13.5"
  }
 },
 "nbformat": 4,
 "nbformat_minor": 5
}
